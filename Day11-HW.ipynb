{
 "cells": [
  {
   "cell_type": "markdown",
   "id": "26200ef9-3024-4f72-9db3-16f09f210bb8",
   "metadata": {},
   "source": [
    "## Introduction to Data Science\n",
    "\n",
    "#### University of Redlands - DATA 101\n",
    "#### Prof: Joanna Bieri [joanna_bieri@redlands.edu](mailto:joanna_bieri@redlands.edu)\n",
    "#### [Class Website: data101.joannabieri.com](https://joannabieri.com/data101.html)\n",
    "\n",
    "---------------------------------------\n",
    "# Homework Day 11\n",
    "---------------------------------------\n",
    "\n",
    "GOALS:\n",
    "\n",
    "1. Understand Causal vs Experimental Studies\n",
    "2. Do a more free form data analysis\n",
    "3. Start doing your ethics reading\n",
    "\n",
    "----------------------------------------------------------\n",
    "\n",
    "This homework has **2 questions**, **10 exercises** and **1 essay response**."
   ]
  },
  {
   "cell_type": "code",
   "execution_count": 363,
   "id": "d0153569-41e3-4696-9b34-83ba90a0b5cf",
   "metadata": {},
   "outputs": [],
   "source": [
    "import numpy as np\n",
    "import pandas as pd\n",
    "\n",
    "import matplotlib.pyplot as plt\n",
    "import plotly.express as px\n",
    "from plotly.subplots import make_subplots\n",
    "import plotly.io as pio\n",
    "pio.renderers.defaule = 'colab'\n",
    "\n",
    "from itables import show\n",
    "\n",
    "# This stops a few warning messages from showing\n",
    "pd.options.mode.chained_assignment = None \n",
    "import warnings\n",
    "warnings.simplefilter(action='ignore', category=FutureWarning)"
   ]
  },
  {
   "cell_type": "code",
   "execution_count": 365,
   "id": "7048dfd1-2b03-4c4b-93e2-ff48f66af288",
   "metadata": {},
   "outputs": [
    {
     "data": {
      "text/html": [
       "<div>\n",
       "<style scoped>\n",
       "    .dataframe tbody tr th:only-of-type {\n",
       "        vertical-align: middle;\n",
       "    }\n",
       "\n",
       "    .dataframe tbody tr th {\n",
       "        vertical-align: top;\n",
       "    }\n",
       "\n",
       "    .dataframe thead th {\n",
       "        text-align: right;\n",
       "    }\n",
       "</style>\n",
       "<table border=\"1\" class=\"dataframe\">\n",
       "  <thead>\n",
       "    <tr style=\"text-align: right;\">\n",
       "      <th></th>\n",
       "      <th>The climate is changing and human activity is mainly responsible</th>\n",
       "      <th>The climate is changing and human activity is partly responsible, together with other factors</th>\n",
       "      <th>The climate is changing but human activity is not responsible at all</th>\n",
       "      <th>The climate is not changing</th>\n",
       "      <th>Don't know</th>\n",
       "    </tr>\n",
       "    <tr>\n",
       "      <th>country</th>\n",
       "      <th></th>\n",
       "      <th></th>\n",
       "      <th></th>\n",
       "      <th></th>\n",
       "      <th></th>\n",
       "    </tr>\n",
       "  </thead>\n",
       "  <tbody>\n",
       "    <tr>\n",
       "      <th>GB</th>\n",
       "      <td>833</td>\n",
       "      <td>604</td>\n",
       "      <td>49</td>\n",
       "      <td>33</td>\n",
       "      <td>114</td>\n",
       "    </tr>\n",
       "    <tr>\n",
       "      <th>US</th>\n",
       "      <td>507</td>\n",
       "      <td>493</td>\n",
       "      <td>120</td>\n",
       "      <td>80</td>\n",
       "      <td>133</td>\n",
       "    </tr>\n",
       "  </tbody>\n",
       "</table>\n",
       "</div>"
      ],
      "text/plain": [
       "         The climate is changing and human activity is mainly responsible    \\\n",
       "country                                                                       \n",
       "GB                                                     833                    \n",
       "US                                                     507                    \n",
       "\n",
       "         The climate is changing and human activity is partly responsible, together with other factors    \\\n",
       "country                                                                                                    \n",
       "GB                                                     604                                                 \n",
       "US                                                     493                                                 \n",
       "\n",
       "         The climate is changing but human activity is not responsible at all    \\\n",
       "country                                                                           \n",
       "GB                                                      49                        \n",
       "US                                                     120                        \n",
       "\n",
       "         The climate is not changing    Don't know  \n",
       "country                                             \n",
       "GB                                  33         114  \n",
       "US                                  80         133  "
      ]
     },
     "execution_count": 365,
     "metadata": {},
     "output_type": "execute_result"
    }
   ],
   "source": [
    "file_name = 'data/yougov-climate.csv'\n",
    "DF = pd.read_csv(file_name,index_col=0)\n",
    "DF"
   ]
  },
  {
   "cell_type": "markdown",
   "id": "ed9f27ed-eb76-470c-8f3d-cbc80e2b8ee9",
   "metadata": {},
   "source": [
    "In the lecture we analyzed the following questions for the first column in the data:\n",
    "\n",
    "### First question:\n",
    "\n",
    "What percent of **all respondents** think the climate is changing and human activity is mainly responsible?  \n",
    "\n",
    "### Second question:\n",
    "\n",
    "What percent of **GB respondents** think the climate is changing and  human activity is mainly responsible?  \n",
    "\n",
    "### Third Question\n",
    "\n",
    "What percent of **US respondents** think the climate is changing and  human activity is mainly responsible?  \n",
    "\n",
    "**Q1** Repeat the analysis from the lecture notes for one of the other columns/questions.\n",
    "\n",
    "1. Percent total\n",
    "2. Percent from GB\n",
    "3. Percent from US\n",
    "\n",
    "Talk about the conditional probability in this case:\n",
    "\n",
    "eg. In a person is from ________ then there is a ________ probability that they believe _______. If a person answered _______ then they are more likley to be from ________. "
   ]
  },
  {
   "cell_type": "markdown",
   "id": "b5874385-5dff-4fbb-ae93-aa8bd386478c",
   "metadata": {},
   "source": [
    "First Question:\n",
    "\n",
    "    45.18%\n",
    "\n",
    "Second Question: \n",
    "\n",
    "    51.01%\n",
    "\n",
    "Third Question:\n",
    "\n",
    "    If a person is from the United States, then there is a 3% probability that they believe the climate is changing but human activity is not responsible at all.  If a person answers that the climate is changing and human activity is partly responsible, together with other factors, then they are more likely to be from Great Britain, however only extremely marginally (0.003% difference)."
   ]
  },
  {
   "cell_type": "code",
   "execution_count": 369,
   "id": "b9a7af50-1cc8-46d4-ab21-09857412fe2d",
   "metadata": {},
   "outputs": [
    {
     "data": {
      "text/html": [
       "<div>\n",
       "<style scoped>\n",
       "    .dataframe tbody tr th:only-of-type {\n",
       "        vertical-align: middle;\n",
       "    }\n",
       "\n",
       "    .dataframe tbody tr th {\n",
       "        vertical-align: top;\n",
       "    }\n",
       "\n",
       "    .dataframe thead th {\n",
       "        text-align: right;\n",
       "    }\n",
       "</style>\n",
       "<table border=\"1\" class=\"dataframe\">\n",
       "  <thead>\n",
       "    <tr style=\"text-align: right;\">\n",
       "      <th></th>\n",
       "      <th>The climate is changing and human activity is mainly responsible</th>\n",
       "      <th>The climate is changing and human activity is partly responsible, together with other factors</th>\n",
       "      <th>The climate is changing but human activity is not responsible at all</th>\n",
       "      <th>The climate is not changing</th>\n",
       "      <th>Don't know</th>\n",
       "      <th>total</th>\n",
       "    </tr>\n",
       "    <tr>\n",
       "      <th>country</th>\n",
       "      <th></th>\n",
       "      <th></th>\n",
       "      <th></th>\n",
       "      <th></th>\n",
       "      <th></th>\n",
       "      <th></th>\n",
       "    </tr>\n",
       "  </thead>\n",
       "  <tbody>\n",
       "    <tr>\n",
       "      <th>GB</th>\n",
       "      <td>833</td>\n",
       "      <td>604</td>\n",
       "      <td>49</td>\n",
       "      <td>33</td>\n",
       "      <td>114</td>\n",
       "      <td>1633</td>\n",
       "    </tr>\n",
       "    <tr>\n",
       "      <th>US</th>\n",
       "      <td>507</td>\n",
       "      <td>493</td>\n",
       "      <td>120</td>\n",
       "      <td>80</td>\n",
       "      <td>133</td>\n",
       "      <td>1333</td>\n",
       "    </tr>\n",
       "    <tr>\n",
       "      <th>total</th>\n",
       "      <td>1340</td>\n",
       "      <td>1097</td>\n",
       "      <td>169</td>\n",
       "      <td>113</td>\n",
       "      <td>247</td>\n",
       "      <td>2966</td>\n",
       "    </tr>\n",
       "  </tbody>\n",
       "</table>\n",
       "</div>"
      ],
      "text/plain": [
       "         The climate is changing and human activity is mainly responsible    \\\n",
       "country                                                                       \n",
       "GB                                                     833                    \n",
       "US                                                     507                    \n",
       "total                                                 1340                    \n",
       "\n",
       "         The climate is changing and human activity is partly responsible, together with other factors    \\\n",
       "country                                                                                                    \n",
       "GB                                                     604                                                 \n",
       "US                                                     493                                                 \n",
       "total                                                 1097                                                 \n",
       "\n",
       "         The climate is changing but human activity is not responsible at all    \\\n",
       "country                                                                           \n",
       "GB                                                      49                        \n",
       "US                                                     120                        \n",
       "total                                                  169                        \n",
       "\n",
       "         The climate is not changing    Don't know  total  \n",
       "country                                                    \n",
       "GB                                  33         114   1633  \n",
       "US                                  80         133   1333  \n",
       "total                              113         247   2966  "
      ]
     },
     "execution_count": 369,
     "metadata": {},
     "output_type": "execute_result"
    }
   ],
   "source": [
    "DF.loc['total']= DF.sum(axis=0)\n",
    "DF['total'] = DF.sum(axis=1)\n",
    "DF"
   ]
  },
  {
   "cell_type": "markdown",
   "id": "249af7fa-4af0-4948-aa1c-6ac55a12b77d",
   "metadata": {},
   "source": [
    "## Berkeley admission data example\n",
    "\n",
    "- Study carried out by the Graduate Division of the University of California, Berkeley in the early 70’s to evaluate whether there was a gender bias in graduate admissions.\n",
    "- The data come from six departments. For confidentiality we'll call them A-F. \n",
    "- We have information on whether the applicant was male or female and whether they were admitted or rejected. This is an old study so only two binary classifications were used. \n",
    "\n",
    "### Here is the data\n"
   ]
  },
  {
   "cell_type": "code",
   "execution_count": 372,
   "id": "18c756ff-0c11-409c-b377-7f271627f33b",
   "metadata": {},
   "outputs": [
    {
     "data": {
      "text/html": [
       "<table id=\"itables_c07618ce_0ef6_4c91_a3a4_8dd90a755d98\" class=\"display nowrap\" data-quarto-disable-processing=\"true\" style=\"table-layout:auto;width:auto;margin:auto;caption-side:bottom\">\n",
       "<thead>\n",
       "    <tr style=\"text-align: right;\">\n",
       "      \n",
       "      <th>Department</th>\n",
       "      <th>Male Yes</th>\n",
       "      <th>Male No</th>\n",
       "      <th>Female Yes</th>\n",
       "      <th>Female No</th>\n",
       "    </tr>\n",
       "  </thead><tbody><tr>\n",
       "<td style=\"vertical-align:middle; text-align:left\">\n",
       "<div style=\"float:left; margin-right: 10px;\">\n",
       "<a href=https://mwouts.github.io/itables/><svg class=\"main-svg\" xmlns=\"http://www.w3.org/2000/svg\" xmlns:xlink=\"http://www.w3.org/1999/xlink\"\n",
       "width=\"64\" viewBox=\"0 0 500 400\" style=\"font-family: 'Droid Sans', sans-serif;\">\n",
       "    <g style=\"fill:#d9d7fc\">\n",
       "        <path d=\"M100,400H500V357H100Z\" />\n",
       "        <path d=\"M100,300H400V257H100Z\" />\n",
       "        <path d=\"M0,200H400V157H0Z\" />\n",
       "        <path d=\"M100,100H500V57H100Z\" />\n",
       "        <path d=\"M100,350H500V307H100Z\" />\n",
       "        <path d=\"M100,250H400V207H100Z\" />\n",
       "        <path d=\"M0,150H400V107H0Z\" />\n",
       "        <path d=\"M100,50H500V7H100Z\" />\n",
       "    </g>\n",
       "    <g style=\"fill:#1a1366;stroke:#1a1366;\">\n",
       "   <rect x=\"100\" y=\"7\" width=\"400\" height=\"43\">\n",
       "    <animate\n",
       "      attributeName=\"width\"\n",
       "      values=\"0;400;0\"\n",
       "      dur=\"5s\"\n",
       "      repeatCount=\"indefinite\" />\n",
       "      <animate\n",
       "      attributeName=\"x\"\n",
       "      values=\"100;100;500\"\n",
       "      dur=\"5s\"\n",
       "      repeatCount=\"indefinite\" />\n",
       "  </rect>\n",
       "        <rect x=\"0\" y=\"107\" width=\"400\" height=\"43\">\n",
       "    <animate\n",
       "      attributeName=\"width\"\n",
       "      values=\"0;400;0\"\n",
       "      dur=\"3.5s\"\n",
       "      repeatCount=\"indefinite\" />\n",
       "    <animate\n",
       "      attributeName=\"x\"\n",
       "      values=\"0;0;400\"\n",
       "      dur=\"3.5s\"\n",
       "      repeatCount=\"indefinite\" />\n",
       "  </rect>\n",
       "        <rect x=\"100\" y=\"207\" width=\"300\" height=\"43\">\n",
       "    <animate\n",
       "      attributeName=\"width\"\n",
       "      values=\"0;300;0\"\n",
       "      dur=\"3s\"\n",
       "      repeatCount=\"indefinite\" />\n",
       "    <animate\n",
       "      attributeName=\"x\"\n",
       "      values=\"100;100;400\"\n",
       "      dur=\"3s\"\n",
       "      repeatCount=\"indefinite\" />\n",
       "  </rect>\n",
       "        <rect x=\"100\" y=\"307\" width=\"400\" height=\"43\">\n",
       "    <animate\n",
       "      attributeName=\"width\"\n",
       "      values=\"0;400;0\"\n",
       "      dur=\"4s\"\n",
       "      repeatCount=\"indefinite\" />\n",
       "      <animate\n",
       "      attributeName=\"x\"\n",
       "      values=\"100;100;500\"\n",
       "      dur=\"4s\"\n",
       "      repeatCount=\"indefinite\" />\n",
       "  </rect>\n",
       "        <g style=\"fill:transparent;stroke-width:8; stroke-linejoin:round\" rx=\"5\">\n",
       "            <g transform=\"translate(45 50) rotate(-45)\">\n",
       "                <circle r=\"33\" cx=\"0\" cy=\"0\" />\n",
       "                <rect x=\"-8\" y=\"32\" width=\"16\" height=\"30\" />\n",
       "            </g>\n",
       "\n",
       "            <g transform=\"translate(450 152)\">\n",
       "                <polyline points=\"-15,-20 -35,-20 -35,40 25,40 25,20\" />\n",
       "                <rect x=\"-15\" y=\"-40\" width=\"60\" height=\"60\" />\n",
       "            </g>\n",
       "\n",
       "            <g transform=\"translate(50 352)\">\n",
       "                <polygon points=\"-35,-5 0,-40 35,-5\" />\n",
       "                <polygon points=\"-35,10 0,45 35,10\" />\n",
       "            </g>\n",
       "\n",
       "            <g transform=\"translate(75 250)\">\n",
       "                <polyline points=\"-30,30 -60,0 -30,-30\" />\n",
       "                <polyline points=\"0,30 -30,0 0,-30\" />\n",
       "            </g>\n",
       "\n",
       "            <g transform=\"translate(425 250) rotate(180)\">\n",
       "                <polyline points=\"-30,30 -60,0 -30,-30\" />\n",
       "                <polyline points=\"0,30 -30,0 0,-30\" />\n",
       "            </g>\n",
       "        </g>\n",
       "    </g>\n",
       "</svg>\n",
       "</a>\n",
       "</div>\n",
       "<div>\n",
       "Loading ITables v2.1.4 from the internet...\n",
       "(need <a href=https://mwouts.github.io/itables/troubleshooting.html>help</a>?)</td>\n",
       "</div>\n",
       "</tr></tbody>\n",
       "\n",
       "</table>\n",
       "<link href=\"https://www.unpkg.com/dt_for_itables@2.0.11/dt_bundle.css\" rel=\"stylesheet\">\n",
       "<script type=\"module\">\n",
       "    import {DataTable, jQuery as $} from 'https://www.unpkg.com/dt_for_itables@2.0.11/dt_bundle.js';\n",
       "\n",
       "    document.querySelectorAll(\"#itables_c07618ce_0ef6_4c91_a3a4_8dd90a755d98:not(.dataTable)\").forEach(table => {\n",
       "        // Define the table data\n",
       "        const data = [[\"A\", 512, 313, 89, 19], [\"B\", 353, 207, 17, 8], [\"C\", 120, 205, 202, 391], [\"D\", 138, 279, 131, 244], [\"E\", 53, 138, 94, 299], [\"F\", 22, 351, 24, 317]];\n",
       "\n",
       "        // Define the dt_args\n",
       "        let dt_args = {\"layout\": {\"topStart\": null, \"topEnd\": null, \"bottomStart\": null, \"bottomEnd\": null}, \"order\": []};\n",
       "        dt_args[\"data\"] = data;\n",
       "\n",
       "        \n",
       "        new DataTable(table, dt_args);\n",
       "    });\n",
       "</script>\n"
      ],
      "text/plain": [
       "<IPython.core.display.HTML object>"
      ]
     },
     "metadata": {},
     "output_type": "display_data"
    }
   ],
   "source": [
    "file_name = 'data/berkley.csv'\n",
    "DF = pd.read_csv(file_name)\n",
    "show(DF)"
   ]
  },
  {
   "cell_type": "code",
   "execution_count": 374,
   "id": "2946022d-d2f3-45fb-9426-fbde15d6427d",
   "metadata": {},
   "outputs": [
    {
     "data": {
      "text/html": [
       "<div>\n",
       "<style scoped>\n",
       "    .dataframe tbody tr th:only-of-type {\n",
       "        vertical-align: middle;\n",
       "    }\n",
       "\n",
       "    .dataframe tbody tr th {\n",
       "        vertical-align: top;\n",
       "    }\n",
       "\n",
       "    .dataframe thead th {\n",
       "        text-align: right;\n",
       "    }\n",
       "</style>\n",
       "<table border=\"1\" class=\"dataframe\">\n",
       "  <thead>\n",
       "    <tr style=\"text-align: right;\">\n",
       "      <th></th>\n",
       "      <th>Department</th>\n",
       "      <th>MF</th>\n",
       "      <th>Number</th>\n",
       "    </tr>\n",
       "  </thead>\n",
       "  <tbody>\n",
       "    <tr>\n",
       "      <th>0</th>\n",
       "      <td>A</td>\n",
       "      <td>Male Yes</td>\n",
       "      <td>512</td>\n",
       "    </tr>\n",
       "    <tr>\n",
       "      <th>1</th>\n",
       "      <td>B</td>\n",
       "      <td>Male Yes</td>\n",
       "      <td>353</td>\n",
       "    </tr>\n",
       "    <tr>\n",
       "      <th>2</th>\n",
       "      <td>C</td>\n",
       "      <td>Male Yes</td>\n",
       "      <td>120</td>\n",
       "    </tr>\n",
       "    <tr>\n",
       "      <th>3</th>\n",
       "      <td>D</td>\n",
       "      <td>Male Yes</td>\n",
       "      <td>138</td>\n",
       "    </tr>\n",
       "    <tr>\n",
       "      <th>4</th>\n",
       "      <td>E</td>\n",
       "      <td>Male Yes</td>\n",
       "      <td>53</td>\n",
       "    </tr>\n",
       "    <tr>\n",
       "      <th>5</th>\n",
       "      <td>F</td>\n",
       "      <td>Male Yes</td>\n",
       "      <td>22</td>\n",
       "    </tr>\n",
       "    <tr>\n",
       "      <th>6</th>\n",
       "      <td>A</td>\n",
       "      <td>Male No</td>\n",
       "      <td>313</td>\n",
       "    </tr>\n",
       "    <tr>\n",
       "      <th>7</th>\n",
       "      <td>B</td>\n",
       "      <td>Male No</td>\n",
       "      <td>207</td>\n",
       "    </tr>\n",
       "    <tr>\n",
       "      <th>8</th>\n",
       "      <td>C</td>\n",
       "      <td>Male No</td>\n",
       "      <td>205</td>\n",
       "    </tr>\n",
       "    <tr>\n",
       "      <th>9</th>\n",
       "      <td>D</td>\n",
       "      <td>Male No</td>\n",
       "      <td>279</td>\n",
       "    </tr>\n",
       "    <tr>\n",
       "      <th>10</th>\n",
       "      <td>E</td>\n",
       "      <td>Male No</td>\n",
       "      <td>138</td>\n",
       "    </tr>\n",
       "    <tr>\n",
       "      <th>11</th>\n",
       "      <td>F</td>\n",
       "      <td>Male No</td>\n",
       "      <td>351</td>\n",
       "    </tr>\n",
       "    <tr>\n",
       "      <th>12</th>\n",
       "      <td>A</td>\n",
       "      <td>Female Yes</td>\n",
       "      <td>89</td>\n",
       "    </tr>\n",
       "    <tr>\n",
       "      <th>13</th>\n",
       "      <td>B</td>\n",
       "      <td>Female Yes</td>\n",
       "      <td>17</td>\n",
       "    </tr>\n",
       "    <tr>\n",
       "      <th>14</th>\n",
       "      <td>C</td>\n",
       "      <td>Female Yes</td>\n",
       "      <td>202</td>\n",
       "    </tr>\n",
       "    <tr>\n",
       "      <th>15</th>\n",
       "      <td>D</td>\n",
       "      <td>Female Yes</td>\n",
       "      <td>131</td>\n",
       "    </tr>\n",
       "    <tr>\n",
       "      <th>16</th>\n",
       "      <td>E</td>\n",
       "      <td>Female Yes</td>\n",
       "      <td>94</td>\n",
       "    </tr>\n",
       "    <tr>\n",
       "      <th>17</th>\n",
       "      <td>F</td>\n",
       "      <td>Female Yes</td>\n",
       "      <td>24</td>\n",
       "    </tr>\n",
       "    <tr>\n",
       "      <th>18</th>\n",
       "      <td>A</td>\n",
       "      <td>Female No</td>\n",
       "      <td>19</td>\n",
       "    </tr>\n",
       "    <tr>\n",
       "      <th>19</th>\n",
       "      <td>B</td>\n",
       "      <td>Female No</td>\n",
       "      <td>8</td>\n",
       "    </tr>\n",
       "    <tr>\n",
       "      <th>20</th>\n",
       "      <td>C</td>\n",
       "      <td>Female No</td>\n",
       "      <td>391</td>\n",
       "    </tr>\n",
       "    <tr>\n",
       "      <th>21</th>\n",
       "      <td>D</td>\n",
       "      <td>Female No</td>\n",
       "      <td>244</td>\n",
       "    </tr>\n",
       "    <tr>\n",
       "      <th>22</th>\n",
       "      <td>E</td>\n",
       "      <td>Female No</td>\n",
       "      <td>299</td>\n",
       "    </tr>\n",
       "    <tr>\n",
       "      <th>23</th>\n",
       "      <td>F</td>\n",
       "      <td>Female No</td>\n",
       "      <td>317</td>\n",
       "    </tr>\n",
       "  </tbody>\n",
       "</table>\n",
       "</div>"
      ],
      "text/plain": [
       "   Department          MF  Number\n",
       "0           A    Male Yes     512\n",
       "1           B    Male Yes     353\n",
       "2           C    Male Yes     120\n",
       "3           D    Male Yes     138\n",
       "4           E    Male Yes      53\n",
       "5           F    Male Yes      22\n",
       "6           A     Male No     313\n",
       "7           B     Male No     207\n",
       "8           C     Male No     205\n",
       "9           D     Male No     279\n",
       "10          E     Male No     138\n",
       "11          F     Male No     351\n",
       "12          A  Female Yes      89\n",
       "13          B  Female Yes      17\n",
       "14          C  Female Yes     202\n",
       "15          D  Female Yes     131\n",
       "16          E  Female Yes      94\n",
       "17          F  Female Yes      24\n",
       "18          A   Female No      19\n",
       "19          B   Female No       8\n",
       "20          C   Female No     391\n",
       "21          D   Female No     244\n",
       "22          E   Female No     299\n",
       "23          F   Female No     317"
      ]
     },
     "execution_count": 374,
     "metadata": {},
     "output_type": "execute_result"
    }
   ],
   "source": [
    "DF_melt = pd.melt(DF,id_vars=['Department'],var_name='MF',value_name='Number')\n",
    "DF_melt"
   ]
  },
  {
   "cell_type": "code",
   "execution_count": 376,
   "id": "5d861ae5-ede6-4cfa-8a13-4b27e3de2b8e",
   "metadata": {},
   "outputs": [],
   "source": [
    "DF_melt['gender'] = DF_melt['MF'].apply(lambda x: x.split(' ')[0]).copy()\n",
    "DF_melt['admitted'] = DF_melt['MF'].apply(lambda x: x.split(' ')[1]).copy()"
   ]
  },
  {
   "cell_type": "code",
   "execution_count": 378,
   "id": "632666dc-2519-4a29-8f2e-d84bfb94ab1e",
   "metadata": {},
   "outputs": [
    {
     "data": {
      "text/html": [
       "<div>\n",
       "<style scoped>\n",
       "    .dataframe tbody tr th:only-of-type {\n",
       "        vertical-align: middle;\n",
       "    }\n",
       "\n",
       "    .dataframe tbody tr th {\n",
       "        vertical-align: top;\n",
       "    }\n",
       "\n",
       "    .dataframe thead th {\n",
       "        text-align: right;\n",
       "    }\n",
       "</style>\n",
       "<table border=\"1\" class=\"dataframe\">\n",
       "  <thead>\n",
       "    <tr style=\"text-align: right;\">\n",
       "      <th></th>\n",
       "      <th>Department</th>\n",
       "      <th>MF</th>\n",
       "      <th>Number</th>\n",
       "      <th>gender</th>\n",
       "      <th>admitted</th>\n",
       "    </tr>\n",
       "  </thead>\n",
       "  <tbody>\n",
       "    <tr>\n",
       "      <th>0</th>\n",
       "      <td>A</td>\n",
       "      <td>Male Yes</td>\n",
       "      <td>512</td>\n",
       "      <td>Male</td>\n",
       "      <td>Yes</td>\n",
       "    </tr>\n",
       "    <tr>\n",
       "      <th>1</th>\n",
       "      <td>B</td>\n",
       "      <td>Male Yes</td>\n",
       "      <td>353</td>\n",
       "      <td>Male</td>\n",
       "      <td>Yes</td>\n",
       "    </tr>\n",
       "    <tr>\n",
       "      <th>2</th>\n",
       "      <td>C</td>\n",
       "      <td>Male Yes</td>\n",
       "      <td>120</td>\n",
       "      <td>Male</td>\n",
       "      <td>Yes</td>\n",
       "    </tr>\n",
       "    <tr>\n",
       "      <th>3</th>\n",
       "      <td>D</td>\n",
       "      <td>Male Yes</td>\n",
       "      <td>138</td>\n",
       "      <td>Male</td>\n",
       "      <td>Yes</td>\n",
       "    </tr>\n",
       "    <tr>\n",
       "      <th>4</th>\n",
       "      <td>E</td>\n",
       "      <td>Male Yes</td>\n",
       "      <td>53</td>\n",
       "      <td>Male</td>\n",
       "      <td>Yes</td>\n",
       "    </tr>\n",
       "    <tr>\n",
       "      <th>5</th>\n",
       "      <td>F</td>\n",
       "      <td>Male Yes</td>\n",
       "      <td>22</td>\n",
       "      <td>Male</td>\n",
       "      <td>Yes</td>\n",
       "    </tr>\n",
       "    <tr>\n",
       "      <th>6</th>\n",
       "      <td>A</td>\n",
       "      <td>Male No</td>\n",
       "      <td>313</td>\n",
       "      <td>Male</td>\n",
       "      <td>No</td>\n",
       "    </tr>\n",
       "    <tr>\n",
       "      <th>7</th>\n",
       "      <td>B</td>\n",
       "      <td>Male No</td>\n",
       "      <td>207</td>\n",
       "      <td>Male</td>\n",
       "      <td>No</td>\n",
       "    </tr>\n",
       "    <tr>\n",
       "      <th>8</th>\n",
       "      <td>C</td>\n",
       "      <td>Male No</td>\n",
       "      <td>205</td>\n",
       "      <td>Male</td>\n",
       "      <td>No</td>\n",
       "    </tr>\n",
       "    <tr>\n",
       "      <th>9</th>\n",
       "      <td>D</td>\n",
       "      <td>Male No</td>\n",
       "      <td>279</td>\n",
       "      <td>Male</td>\n",
       "      <td>No</td>\n",
       "    </tr>\n",
       "    <tr>\n",
       "      <th>10</th>\n",
       "      <td>E</td>\n",
       "      <td>Male No</td>\n",
       "      <td>138</td>\n",
       "      <td>Male</td>\n",
       "      <td>No</td>\n",
       "    </tr>\n",
       "    <tr>\n",
       "      <th>11</th>\n",
       "      <td>F</td>\n",
       "      <td>Male No</td>\n",
       "      <td>351</td>\n",
       "      <td>Male</td>\n",
       "      <td>No</td>\n",
       "    </tr>\n",
       "    <tr>\n",
       "      <th>12</th>\n",
       "      <td>A</td>\n",
       "      <td>Female Yes</td>\n",
       "      <td>89</td>\n",
       "      <td>Female</td>\n",
       "      <td>Yes</td>\n",
       "    </tr>\n",
       "    <tr>\n",
       "      <th>13</th>\n",
       "      <td>B</td>\n",
       "      <td>Female Yes</td>\n",
       "      <td>17</td>\n",
       "      <td>Female</td>\n",
       "      <td>Yes</td>\n",
       "    </tr>\n",
       "    <tr>\n",
       "      <th>14</th>\n",
       "      <td>C</td>\n",
       "      <td>Female Yes</td>\n",
       "      <td>202</td>\n",
       "      <td>Female</td>\n",
       "      <td>Yes</td>\n",
       "    </tr>\n",
       "    <tr>\n",
       "      <th>15</th>\n",
       "      <td>D</td>\n",
       "      <td>Female Yes</td>\n",
       "      <td>131</td>\n",
       "      <td>Female</td>\n",
       "      <td>Yes</td>\n",
       "    </tr>\n",
       "    <tr>\n",
       "      <th>16</th>\n",
       "      <td>E</td>\n",
       "      <td>Female Yes</td>\n",
       "      <td>94</td>\n",
       "      <td>Female</td>\n",
       "      <td>Yes</td>\n",
       "    </tr>\n",
       "    <tr>\n",
       "      <th>17</th>\n",
       "      <td>F</td>\n",
       "      <td>Female Yes</td>\n",
       "      <td>24</td>\n",
       "      <td>Female</td>\n",
       "      <td>Yes</td>\n",
       "    </tr>\n",
       "    <tr>\n",
       "      <th>18</th>\n",
       "      <td>A</td>\n",
       "      <td>Female No</td>\n",
       "      <td>19</td>\n",
       "      <td>Female</td>\n",
       "      <td>No</td>\n",
       "    </tr>\n",
       "    <tr>\n",
       "      <th>19</th>\n",
       "      <td>B</td>\n",
       "      <td>Female No</td>\n",
       "      <td>8</td>\n",
       "      <td>Female</td>\n",
       "      <td>No</td>\n",
       "    </tr>\n",
       "    <tr>\n",
       "      <th>20</th>\n",
       "      <td>C</td>\n",
       "      <td>Female No</td>\n",
       "      <td>391</td>\n",
       "      <td>Female</td>\n",
       "      <td>No</td>\n",
       "    </tr>\n",
       "    <tr>\n",
       "      <th>21</th>\n",
       "      <td>D</td>\n",
       "      <td>Female No</td>\n",
       "      <td>244</td>\n",
       "      <td>Female</td>\n",
       "      <td>No</td>\n",
       "    </tr>\n",
       "    <tr>\n",
       "      <th>22</th>\n",
       "      <td>E</td>\n",
       "      <td>Female No</td>\n",
       "      <td>299</td>\n",
       "      <td>Female</td>\n",
       "      <td>No</td>\n",
       "    </tr>\n",
       "    <tr>\n",
       "      <th>23</th>\n",
       "      <td>F</td>\n",
       "      <td>Female No</td>\n",
       "      <td>317</td>\n",
       "      <td>Female</td>\n",
       "      <td>No</td>\n",
       "    </tr>\n",
       "  </tbody>\n",
       "</table>\n",
       "</div>"
      ],
      "text/plain": [
       "   Department          MF  Number  gender admitted\n",
       "0           A    Male Yes     512    Male      Yes\n",
       "1           B    Male Yes     353    Male      Yes\n",
       "2           C    Male Yes     120    Male      Yes\n",
       "3           D    Male Yes     138    Male      Yes\n",
       "4           E    Male Yes      53    Male      Yes\n",
       "5           F    Male Yes      22    Male      Yes\n",
       "6           A     Male No     313    Male       No\n",
       "7           B     Male No     207    Male       No\n",
       "8           C     Male No     205    Male       No\n",
       "9           D     Male No     279    Male       No\n",
       "10          E     Male No     138    Male       No\n",
       "11          F     Male No     351    Male       No\n",
       "12          A  Female Yes      89  Female      Yes\n",
       "13          B  Female Yes      17  Female      Yes\n",
       "14          C  Female Yes     202  Female      Yes\n",
       "15          D  Female Yes     131  Female      Yes\n",
       "16          E  Female Yes      94  Female      Yes\n",
       "17          F  Female Yes      24  Female      Yes\n",
       "18          A   Female No      19  Female       No\n",
       "19          B   Female No       8  Female       No\n",
       "20          C   Female No     391  Female       No\n",
       "21          D   Female No     244  Female       No\n",
       "22          E   Female No     299  Female       No\n",
       "23          F   Female No     317  Female       No"
      ]
     },
     "execution_count": 378,
     "metadata": {},
     "output_type": "execute_result"
    }
   ],
   "source": [
    "DF_melt"
   ]
  },
  {
   "cell_type": "markdown",
   "id": "432131a7-8956-4a5f-adee-ca0c59c0ff64",
   "metadata": {},
   "source": [
    "### Gender distribution by department\n",
    "\n",
    "What can we say about the gender distribution if we look at the individual departments.\n",
    "\n",
    "Start with our original \"melted\" data frame:"
   ]
  },
  {
   "cell_type": "markdown",
   "id": "022204a9-b9e4-4cc3-984f-d821c69b432b",
   "metadata": {},
   "source": [
    "#### Lets pivot!\n",
    "\n",
    "Pivot this data so that our departments become the column labels and our MF column becomes the index."
   ]
  },
  {
   "cell_type": "code",
   "execution_count": 382,
   "id": "af17b1d9-39d9-4fa7-9f03-619e4cca6639",
   "metadata": {},
   "outputs": [
    {
     "data": {
      "text/html": [
       "<div>\n",
       "<style scoped>\n",
       "    .dataframe tbody tr th:only-of-type {\n",
       "        vertical-align: middle;\n",
       "    }\n",
       "\n",
       "    .dataframe tbody tr th {\n",
       "        vertical-align: top;\n",
       "    }\n",
       "\n",
       "    .dataframe thead th {\n",
       "        text-align: right;\n",
       "    }\n",
       "</style>\n",
       "<table border=\"1\" class=\"dataframe\">\n",
       "  <thead>\n",
       "    <tr style=\"text-align: right;\">\n",
       "      <th>Department</th>\n",
       "      <th>A</th>\n",
       "      <th>B</th>\n",
       "      <th>C</th>\n",
       "      <th>D</th>\n",
       "      <th>E</th>\n",
       "      <th>F</th>\n",
       "    </tr>\n",
       "    <tr>\n",
       "      <th>MF</th>\n",
       "      <th></th>\n",
       "      <th></th>\n",
       "      <th></th>\n",
       "      <th></th>\n",
       "      <th></th>\n",
       "      <th></th>\n",
       "    </tr>\n",
       "  </thead>\n",
       "  <tbody>\n",
       "    <tr>\n",
       "      <th>Female No</th>\n",
       "      <td>19</td>\n",
       "      <td>8</td>\n",
       "      <td>391</td>\n",
       "      <td>244</td>\n",
       "      <td>299</td>\n",
       "      <td>317</td>\n",
       "    </tr>\n",
       "    <tr>\n",
       "      <th>Female Yes</th>\n",
       "      <td>89</td>\n",
       "      <td>17</td>\n",
       "      <td>202</td>\n",
       "      <td>131</td>\n",
       "      <td>94</td>\n",
       "      <td>24</td>\n",
       "    </tr>\n",
       "    <tr>\n",
       "      <th>Male No</th>\n",
       "      <td>313</td>\n",
       "      <td>207</td>\n",
       "      <td>205</td>\n",
       "      <td>279</td>\n",
       "      <td>138</td>\n",
       "      <td>351</td>\n",
       "    </tr>\n",
       "    <tr>\n",
       "      <th>Male Yes</th>\n",
       "      <td>512</td>\n",
       "      <td>353</td>\n",
       "      <td>120</td>\n",
       "      <td>138</td>\n",
       "      <td>53</td>\n",
       "      <td>22</td>\n",
       "    </tr>\n",
       "  </tbody>\n",
       "</table>\n",
       "</div>"
      ],
      "text/plain": [
       "Department    A    B    C    D    E    F\n",
       "MF                                      \n",
       "Female No    19    8  391  244  299  317\n",
       "Female Yes   89   17  202  131   94   24\n",
       "Male No     313  207  205  279  138  351\n",
       "Male Yes    512  353  120  138   53   22"
      ]
     },
     "execution_count": 382,
     "metadata": {},
     "output_type": "execute_result"
    }
   ],
   "source": [
    "# Your code here\n",
    "\n",
    "DF_dept = DF_melt.pivot(index='MF',columns='Department',values='Number')\n",
    "DF_dept"
   ]
  },
  {
   "cell_type": "markdown",
   "id": "6f3a4052-70cb-45e1-9175-559660d97a6d",
   "metadata": {},
   "source": [
    "**Q2** Calculate the proportions for the other departments. We did department A in the lecture. You can use the code from the lecture or come up with your own way to do this. You can do this one by one or try using a FOR loop.\n",
    "\n",
    "Talk about what you see in these proportions. Which departments admit a large number of women? How do your number align with the visualization below?\n",
    "\n",
    "    Department A admits the largest number of women compared to the other departments, also admitting the largest amount of people total.  The probabilities also seem to match the graphs, as the probabilities overall decrease as the departments progress."
   ]
  },
  {
   "cell_type": "code",
   "execution_count": 385,
   "id": "0e45185f-febe-4dc8-9d2a-392cb154218d",
   "metadata": {},
   "outputs": [],
   "source": [
    "# Your code here\n",
    "\n",
    "prob_female = DF_dept['B']['Female Yes']/(DF_dept['B']['Female Yes']+DF_dept['B']['Female No'])\n",
    "prob_male = DF_dept['B']['Male Yes']/(DF_dept['B']['Male Yes']+DF_dept['B']['Male No'])"
   ]
  },
  {
   "cell_type": "code",
   "execution_count": 387,
   "id": "a9531ffc-f820-4489-b5fd-47eebd589f8d",
   "metadata": {},
   "outputs": [],
   "source": [
    "prob_female = DF_dept['C']['Female Yes']/(DF_dept['C']['Female Yes']+DF_dept['C']['Female No'])\n",
    "prob_male = DF_dept['C']['Male Yes']/(DF_dept['C']['Male Yes']+DF_dept['C']['Male No'])"
   ]
  },
  {
   "cell_type": "code",
   "execution_count": 389,
   "id": "41638e84-2958-4e4f-adf0-d71e6499c779",
   "metadata": {},
   "outputs": [],
   "source": [
    "prob_female = DF_dept['D']['Female Yes']/(DF_dept['D']['Female Yes']+DF_dept['D']['Female No'])\n",
    "prob_male = DF_dept['D']['Male Yes']/(DF_dept['D']['Male Yes']+DF_dept['D']['Male No'])"
   ]
  },
  {
   "cell_type": "code",
   "execution_count": 391,
   "id": "61b82069-c4d1-4b67-b6b2-d04d16ff5597",
   "metadata": {},
   "outputs": [],
   "source": [
    "prob_female = DF_dept['E']['Female Yes']/(DF_dept['E']['Female Yes']+DF_dept['E']['Female No'])\n",
    "prob_male = DF_dept['E']['Male Yes']/(DF_dept['E']['Male Yes']+DF_dept['E']['Male No'])"
   ]
  },
  {
   "cell_type": "code",
   "execution_count": 393,
   "id": "3b4815df-c557-417d-8c2f-41b22db88f67",
   "metadata": {},
   "outputs": [],
   "source": [
    "prob_female = DF_dept['F']['Female Yes']/(DF_dept['F']['Female Yes']+DF_dept['F']['Female No'])\n",
    "prob_male = DF_dept['F']['Male Yes']/(DF_dept['F']['Male Yes']+DF_dept['F']['Male No'])"
   ]
  },
  {
   "cell_type": "code",
   "execution_count": 395,
   "id": "4d090eb1-ff1a-415a-9583-c68c3900bb73",
   "metadata": {},
   "outputs": [
    {
     "data": {
      "text/plain": [
       "0.07038123167155426"
      ]
     },
     "execution_count": 395,
     "metadata": {},
     "output_type": "execute_result"
    }
   ],
   "source": [
    "prob_female"
   ]
  },
  {
   "cell_type": "code",
   "execution_count": 397,
   "id": "1208082c-949a-4b7a-ab1d-7fd72463d1db",
   "metadata": {},
   "outputs": [
    {
     "data": {
      "text/plain": [
       "0.058981233243967826"
      ]
     },
     "execution_count": 397,
     "metadata": {},
     "output_type": "execute_result"
    }
   ],
   "source": [
    "prob_male"
   ]
  },
  {
   "cell_type": "markdown",
   "id": "1443020f-a431-4c9a-b5c7-7b47229b4614",
   "metadata": {},
   "source": [
    "### Here is a plot of the proportions data"
   ]
  },
  {
   "cell_type": "code",
   "execution_count": 400,
   "id": "fe801850-b1ab-4c10-b14a-5ddb8d1d6797",
   "metadata": {},
   "outputs": [
    {
     "data": {
      "application/vnd.plotly.v1+json": {
       "config": {
        "plotlyServerURL": "https://plot.ly"
       },
       "data": [
        {
         "alignmentgroup": "True",
         "bingroup": "y",
         "histfunc": "sum",
         "hovertemplate": "admitted=Yes<br>Department=A<br>sum of Number (normalized as percent)=%{x}<br>gender=%{y}<extra></extra>",
         "legendgroup": "Yes",
         "marker": {
          "color": "#2ca25f",
          "pattern": {
           "shape": ""
          }
         },
         "name": "Yes",
         "offsetgroup": "Yes",
         "orientation": "h",
         "showlegend": true,
         "type": "histogram",
         "x": [
          512,
          89
         ],
         "xaxis": "x5",
         "y": [
          "Male",
          "Female"
         ],
         "yaxis": "y5"
        },
        {
         "alignmentgroup": "True",
         "bingroup": "y",
         "histfunc": "sum",
         "hovertemplate": "admitted=Yes<br>Department=B<br>sum of Number (normalized as percent)=%{x}<br>gender=%{y}<extra></extra>",
         "legendgroup": "Yes",
         "marker": {
          "color": "#2ca25f",
          "pattern": {
           "shape": ""
          }
         },
         "name": "Yes",
         "offsetgroup": "Yes",
         "orientation": "h",
         "showlegend": false,
         "type": "histogram",
         "x": [
          353,
          17
         ],
         "xaxis": "x6",
         "y": [
          "Male",
          "Female"
         ],
         "yaxis": "y6"
        },
        {
         "alignmentgroup": "True",
         "bingroup": "y",
         "histfunc": "sum",
         "hovertemplate": "admitted=Yes<br>Department=C<br>sum of Number (normalized as percent)=%{x}<br>gender=%{y}<extra></extra>",
         "legendgroup": "Yes",
         "marker": {
          "color": "#2ca25f",
          "pattern": {
           "shape": ""
          }
         },
         "name": "Yes",
         "offsetgroup": "Yes",
         "orientation": "h",
         "showlegend": false,
         "type": "histogram",
         "x": [
          120,
          202
         ],
         "xaxis": "x3",
         "y": [
          "Male",
          "Female"
         ],
         "yaxis": "y3"
        },
        {
         "alignmentgroup": "True",
         "bingroup": "y",
         "histfunc": "sum",
         "hovertemplate": "admitted=Yes<br>Department=D<br>sum of Number (normalized as percent)=%{x}<br>gender=%{y}<extra></extra>",
         "legendgroup": "Yes",
         "marker": {
          "color": "#2ca25f",
          "pattern": {
           "shape": ""
          }
         },
         "name": "Yes",
         "offsetgroup": "Yes",
         "orientation": "h",
         "showlegend": false,
         "type": "histogram",
         "x": [
          138,
          131
         ],
         "xaxis": "x4",
         "y": [
          "Male",
          "Female"
         ],
         "yaxis": "y4"
        },
        {
         "alignmentgroup": "True",
         "bingroup": "y",
         "histfunc": "sum",
         "hovertemplate": "admitted=Yes<br>Department=E<br>sum of Number (normalized as percent)=%{x}<br>gender=%{y}<extra></extra>",
         "legendgroup": "Yes",
         "marker": {
          "color": "#2ca25f",
          "pattern": {
           "shape": ""
          }
         },
         "name": "Yes",
         "offsetgroup": "Yes",
         "orientation": "h",
         "showlegend": false,
         "type": "histogram",
         "x": [
          53,
          94
         ],
         "xaxis": "x",
         "y": [
          "Male",
          "Female"
         ],
         "yaxis": "y"
        },
        {
         "alignmentgroup": "True",
         "bingroup": "y",
         "histfunc": "sum",
         "hovertemplate": "admitted=Yes<br>Department=F<br>sum of Number (normalized as percent)=%{x}<br>gender=%{y}<extra></extra>",
         "legendgroup": "Yes",
         "marker": {
          "color": "#2ca25f",
          "pattern": {
           "shape": ""
          }
         },
         "name": "Yes",
         "offsetgroup": "Yes",
         "orientation": "h",
         "showlegend": false,
         "type": "histogram",
         "x": [
          22,
          24
         ],
         "xaxis": "x2",
         "y": [
          "Male",
          "Female"
         ],
         "yaxis": "y2"
        },
        {
         "alignmentgroup": "True",
         "bingroup": "y",
         "histfunc": "sum",
         "hovertemplate": "admitted=No<br>Department=A<br>sum of Number (normalized as percent)=%{x}<br>gender=%{y}<extra></extra>",
         "legendgroup": "No",
         "marker": {
          "color": "#99d8c9",
          "pattern": {
           "shape": ""
          }
         },
         "name": "No",
         "offsetgroup": "No",
         "orientation": "h",
         "showlegend": true,
         "type": "histogram",
         "x": [
          313,
          19
         ],
         "xaxis": "x5",
         "y": [
          "Male",
          "Female"
         ],
         "yaxis": "y5"
        },
        {
         "alignmentgroup": "True",
         "bingroup": "y",
         "histfunc": "sum",
         "hovertemplate": "admitted=No<br>Department=B<br>sum of Number (normalized as percent)=%{x}<br>gender=%{y}<extra></extra>",
         "legendgroup": "No",
         "marker": {
          "color": "#99d8c9",
          "pattern": {
           "shape": ""
          }
         },
         "name": "No",
         "offsetgroup": "No",
         "orientation": "h",
         "showlegend": false,
         "type": "histogram",
         "x": [
          207,
          8
         ],
         "xaxis": "x6",
         "y": [
          "Male",
          "Female"
         ],
         "yaxis": "y6"
        },
        {
         "alignmentgroup": "True",
         "bingroup": "y",
         "histfunc": "sum",
         "hovertemplate": "admitted=No<br>Department=C<br>sum of Number (normalized as percent)=%{x}<br>gender=%{y}<extra></extra>",
         "legendgroup": "No",
         "marker": {
          "color": "#99d8c9",
          "pattern": {
           "shape": ""
          }
         },
         "name": "No",
         "offsetgroup": "No",
         "orientation": "h",
         "showlegend": false,
         "type": "histogram",
         "x": [
          205,
          391
         ],
         "xaxis": "x3",
         "y": [
          "Male",
          "Female"
         ],
         "yaxis": "y3"
        },
        {
         "alignmentgroup": "True",
         "bingroup": "y",
         "histfunc": "sum",
         "hovertemplate": "admitted=No<br>Department=D<br>sum of Number (normalized as percent)=%{x}<br>gender=%{y}<extra></extra>",
         "legendgroup": "No",
         "marker": {
          "color": "#99d8c9",
          "pattern": {
           "shape": ""
          }
         },
         "name": "No",
         "offsetgroup": "No",
         "orientation": "h",
         "showlegend": false,
         "type": "histogram",
         "x": [
          279,
          244
         ],
         "xaxis": "x4",
         "y": [
          "Male",
          "Female"
         ],
         "yaxis": "y4"
        },
        {
         "alignmentgroup": "True",
         "bingroup": "y",
         "histfunc": "sum",
         "hovertemplate": "admitted=No<br>Department=E<br>sum of Number (normalized as percent)=%{x}<br>gender=%{y}<extra></extra>",
         "legendgroup": "No",
         "marker": {
          "color": "#99d8c9",
          "pattern": {
           "shape": ""
          }
         },
         "name": "No",
         "offsetgroup": "No",
         "orientation": "h",
         "showlegend": false,
         "type": "histogram",
         "x": [
          138,
          299
         ],
         "xaxis": "x",
         "y": [
          "Male",
          "Female"
         ],
         "yaxis": "y"
        },
        {
         "alignmentgroup": "True",
         "bingroup": "y",
         "histfunc": "sum",
         "hovertemplate": "admitted=No<br>Department=F<br>sum of Number (normalized as percent)=%{x}<br>gender=%{y}<extra></extra>",
         "legendgroup": "No",
         "marker": {
          "color": "#99d8c9",
          "pattern": {
           "shape": ""
          }
         },
         "name": "No",
         "offsetgroup": "No",
         "orientation": "h",
         "showlegend": false,
         "type": "histogram",
         "x": [
          351,
          317
         ],
         "xaxis": "x2",
         "y": [
          "Male",
          "Female"
         ],
         "yaxis": "y2"
        }
       ],
       "layout": {
        "annotations": [
         {
          "font": {},
          "showarrow": false,
          "text": "E",
          "x": 0.245,
          "xanchor": "center",
          "xref": "paper",
          "y": 0.2866666666666666,
          "yanchor": "bottom",
          "yref": "paper"
         },
         {
          "font": {},
          "showarrow": false,
          "text": "F",
          "x": 0.755,
          "xanchor": "center",
          "xref": "paper",
          "y": 0.2866666666666666,
          "yanchor": "bottom",
          "yref": "paper"
         },
         {
          "font": {},
          "showarrow": false,
          "text": "C",
          "x": 0.245,
          "xanchor": "center",
          "xref": "paper",
          "y": 0.6433333333333333,
          "yanchor": "bottom",
          "yref": "paper"
         },
         {
          "font": {},
          "showarrow": false,
          "text": "D",
          "x": 0.755,
          "xanchor": "center",
          "xref": "paper",
          "y": 0.6433333333333333,
          "yanchor": "bottom",
          "yref": "paper"
         },
         {
          "font": {},
          "showarrow": false,
          "text": "A",
          "x": 0.245,
          "xanchor": "center",
          "xref": "paper",
          "y": 0.9999999999999999,
          "yanchor": "bottom",
          "yref": "paper"
         },
         {
          "font": {},
          "showarrow": false,
          "text": "B",
          "x": 0.755,
          "xanchor": "center",
          "xref": "paper",
          "y": 0.9999999999999999,
          "yanchor": "bottom",
          "yref": "paper"
         }
        ],
        "autosize": false,
        "barmode": "relative",
        "barnorm": "percent",
        "height": 500,
        "legend": {
         "title": {
          "text": "Admitted"
         },
         "tracegroupgap": 0
        },
        "margin": {
         "t": 60
        },
        "template": {
         "data": {
          "bar": [
           {
            "error_x": {
             "color": "#2a3f5f"
            },
            "error_y": {
             "color": "#2a3f5f"
            },
            "marker": {
             "line": {
              "color": "white",
              "width": 0.5
             },
             "pattern": {
              "fillmode": "overlay",
              "size": 10,
              "solidity": 0.2
             }
            },
            "type": "bar"
           }
          ],
          "barpolar": [
           {
            "marker": {
             "line": {
              "color": "white",
              "width": 0.5
             },
             "pattern": {
              "fillmode": "overlay",
              "size": 10,
              "solidity": 0.2
             }
            },
            "type": "barpolar"
           }
          ],
          "carpet": [
           {
            "aaxis": {
             "endlinecolor": "#2a3f5f",
             "gridcolor": "#C8D4E3",
             "linecolor": "#C8D4E3",
             "minorgridcolor": "#C8D4E3",
             "startlinecolor": "#2a3f5f"
            },
            "baxis": {
             "endlinecolor": "#2a3f5f",
             "gridcolor": "#C8D4E3",
             "linecolor": "#C8D4E3",
             "minorgridcolor": "#C8D4E3",
             "startlinecolor": "#2a3f5f"
            },
            "type": "carpet"
           }
          ],
          "choropleth": [
           {
            "colorbar": {
             "outlinewidth": 0,
             "ticks": ""
            },
            "type": "choropleth"
           }
          ],
          "contour": [
           {
            "colorbar": {
             "outlinewidth": 0,
             "ticks": ""
            },
            "colorscale": [
             [
              0,
              "#0d0887"
             ],
             [
              0.1111111111111111,
              "#46039f"
             ],
             [
              0.2222222222222222,
              "#7201a8"
             ],
             [
              0.3333333333333333,
              "#9c179e"
             ],
             [
              0.4444444444444444,
              "#bd3786"
             ],
             [
              0.5555555555555556,
              "#d8576b"
             ],
             [
              0.6666666666666666,
              "#ed7953"
             ],
             [
              0.7777777777777778,
              "#fb9f3a"
             ],
             [
              0.8888888888888888,
              "#fdca26"
             ],
             [
              1,
              "#f0f921"
             ]
            ],
            "type": "contour"
           }
          ],
          "contourcarpet": [
           {
            "colorbar": {
             "outlinewidth": 0,
             "ticks": ""
            },
            "type": "contourcarpet"
           }
          ],
          "heatmap": [
           {
            "colorbar": {
             "outlinewidth": 0,
             "ticks": ""
            },
            "colorscale": [
             [
              0,
              "#0d0887"
             ],
             [
              0.1111111111111111,
              "#46039f"
             ],
             [
              0.2222222222222222,
              "#7201a8"
             ],
             [
              0.3333333333333333,
              "#9c179e"
             ],
             [
              0.4444444444444444,
              "#bd3786"
             ],
             [
              0.5555555555555556,
              "#d8576b"
             ],
             [
              0.6666666666666666,
              "#ed7953"
             ],
             [
              0.7777777777777778,
              "#fb9f3a"
             ],
             [
              0.8888888888888888,
              "#fdca26"
             ],
             [
              1,
              "#f0f921"
             ]
            ],
            "type": "heatmap"
           }
          ],
          "heatmapgl": [
           {
            "colorbar": {
             "outlinewidth": 0,
             "ticks": ""
            },
            "colorscale": [
             [
              0,
              "#0d0887"
             ],
             [
              0.1111111111111111,
              "#46039f"
             ],
             [
              0.2222222222222222,
              "#7201a8"
             ],
             [
              0.3333333333333333,
              "#9c179e"
             ],
             [
              0.4444444444444444,
              "#bd3786"
             ],
             [
              0.5555555555555556,
              "#d8576b"
             ],
             [
              0.6666666666666666,
              "#ed7953"
             ],
             [
              0.7777777777777778,
              "#fb9f3a"
             ],
             [
              0.8888888888888888,
              "#fdca26"
             ],
             [
              1,
              "#f0f921"
             ]
            ],
            "type": "heatmapgl"
           }
          ],
          "histogram": [
           {
            "marker": {
             "pattern": {
              "fillmode": "overlay",
              "size": 10,
              "solidity": 0.2
             }
            },
            "type": "histogram"
           }
          ],
          "histogram2d": [
           {
            "colorbar": {
             "outlinewidth": 0,
             "ticks": ""
            },
            "colorscale": [
             [
              0,
              "#0d0887"
             ],
             [
              0.1111111111111111,
              "#46039f"
             ],
             [
              0.2222222222222222,
              "#7201a8"
             ],
             [
              0.3333333333333333,
              "#9c179e"
             ],
             [
              0.4444444444444444,
              "#bd3786"
             ],
             [
              0.5555555555555556,
              "#d8576b"
             ],
             [
              0.6666666666666666,
              "#ed7953"
             ],
             [
              0.7777777777777778,
              "#fb9f3a"
             ],
             [
              0.8888888888888888,
              "#fdca26"
             ],
             [
              1,
              "#f0f921"
             ]
            ],
            "type": "histogram2d"
           }
          ],
          "histogram2dcontour": [
           {
            "colorbar": {
             "outlinewidth": 0,
             "ticks": ""
            },
            "colorscale": [
             [
              0,
              "#0d0887"
             ],
             [
              0.1111111111111111,
              "#46039f"
             ],
             [
              0.2222222222222222,
              "#7201a8"
             ],
             [
              0.3333333333333333,
              "#9c179e"
             ],
             [
              0.4444444444444444,
              "#bd3786"
             ],
             [
              0.5555555555555556,
              "#d8576b"
             ],
             [
              0.6666666666666666,
              "#ed7953"
             ],
             [
              0.7777777777777778,
              "#fb9f3a"
             ],
             [
              0.8888888888888888,
              "#fdca26"
             ],
             [
              1,
              "#f0f921"
             ]
            ],
            "type": "histogram2dcontour"
           }
          ],
          "mesh3d": [
           {
            "colorbar": {
             "outlinewidth": 0,
             "ticks": ""
            },
            "type": "mesh3d"
           }
          ],
          "parcoords": [
           {
            "line": {
             "colorbar": {
              "outlinewidth": 0,
              "ticks": ""
             }
            },
            "type": "parcoords"
           }
          ],
          "pie": [
           {
            "automargin": true,
            "type": "pie"
           }
          ],
          "scatter": [
           {
            "fillpattern": {
             "fillmode": "overlay",
             "size": 10,
             "solidity": 0.2
            },
            "type": "scatter"
           }
          ],
          "scatter3d": [
           {
            "line": {
             "colorbar": {
              "outlinewidth": 0,
              "ticks": ""
             }
            },
            "marker": {
             "colorbar": {
              "outlinewidth": 0,
              "ticks": ""
             }
            },
            "type": "scatter3d"
           }
          ],
          "scattercarpet": [
           {
            "marker": {
             "colorbar": {
              "outlinewidth": 0,
              "ticks": ""
             }
            },
            "type": "scattercarpet"
           }
          ],
          "scattergeo": [
           {
            "marker": {
             "colorbar": {
              "outlinewidth": 0,
              "ticks": ""
             }
            },
            "type": "scattergeo"
           }
          ],
          "scattergl": [
           {
            "marker": {
             "colorbar": {
              "outlinewidth": 0,
              "ticks": ""
             }
            },
            "type": "scattergl"
           }
          ],
          "scattermapbox": [
           {
            "marker": {
             "colorbar": {
              "outlinewidth": 0,
              "ticks": ""
             }
            },
            "type": "scattermapbox"
           }
          ],
          "scatterpolar": [
           {
            "marker": {
             "colorbar": {
              "outlinewidth": 0,
              "ticks": ""
             }
            },
            "type": "scatterpolar"
           }
          ],
          "scatterpolargl": [
           {
            "marker": {
             "colorbar": {
              "outlinewidth": 0,
              "ticks": ""
             }
            },
            "type": "scatterpolargl"
           }
          ],
          "scatterternary": [
           {
            "marker": {
             "colorbar": {
              "outlinewidth": 0,
              "ticks": ""
             }
            },
            "type": "scatterternary"
           }
          ],
          "surface": [
           {
            "colorbar": {
             "outlinewidth": 0,
             "ticks": ""
            },
            "colorscale": [
             [
              0,
              "#0d0887"
             ],
             [
              0.1111111111111111,
              "#46039f"
             ],
             [
              0.2222222222222222,
              "#7201a8"
             ],
             [
              0.3333333333333333,
              "#9c179e"
             ],
             [
              0.4444444444444444,
              "#bd3786"
             ],
             [
              0.5555555555555556,
              "#d8576b"
             ],
             [
              0.6666666666666666,
              "#ed7953"
             ],
             [
              0.7777777777777778,
              "#fb9f3a"
             ],
             [
              0.8888888888888888,
              "#fdca26"
             ],
             [
              1,
              "#f0f921"
             ]
            ],
            "type": "surface"
           }
          ],
          "table": [
           {
            "cells": {
             "fill": {
              "color": "#EBF0F8"
             },
             "line": {
              "color": "white"
             }
            },
            "header": {
             "fill": {
              "color": "#C8D4E3"
             },
             "line": {
              "color": "white"
             }
            },
            "type": "table"
           }
          ]
         },
         "layout": {
          "annotationdefaults": {
           "arrowcolor": "#2a3f5f",
           "arrowhead": 0,
           "arrowwidth": 1
          },
          "autotypenumbers": "strict",
          "coloraxis": {
           "colorbar": {
            "outlinewidth": 0,
            "ticks": ""
           }
          },
          "colorscale": {
           "diverging": [
            [
             0,
             "#8e0152"
            ],
            [
             0.1,
             "#c51b7d"
            ],
            [
             0.2,
             "#de77ae"
            ],
            [
             0.3,
             "#f1b6da"
            ],
            [
             0.4,
             "#fde0ef"
            ],
            [
             0.5,
             "#f7f7f7"
            ],
            [
             0.6,
             "#e6f5d0"
            ],
            [
             0.7,
             "#b8e186"
            ],
            [
             0.8,
             "#7fbc41"
            ],
            [
             0.9,
             "#4d9221"
            ],
            [
             1,
             "#276419"
            ]
           ],
           "sequential": [
            [
             0,
             "#0d0887"
            ],
            [
             0.1111111111111111,
             "#46039f"
            ],
            [
             0.2222222222222222,
             "#7201a8"
            ],
            [
             0.3333333333333333,
             "#9c179e"
            ],
            [
             0.4444444444444444,
             "#bd3786"
            ],
            [
             0.5555555555555556,
             "#d8576b"
            ],
            [
             0.6666666666666666,
             "#ed7953"
            ],
            [
             0.7777777777777778,
             "#fb9f3a"
            ],
            [
             0.8888888888888888,
             "#fdca26"
            ],
            [
             1,
             "#f0f921"
            ]
           ],
           "sequentialminus": [
            [
             0,
             "#0d0887"
            ],
            [
             0.1111111111111111,
             "#46039f"
            ],
            [
             0.2222222222222222,
             "#7201a8"
            ],
            [
             0.3333333333333333,
             "#9c179e"
            ],
            [
             0.4444444444444444,
             "#bd3786"
            ],
            [
             0.5555555555555556,
             "#d8576b"
            ],
            [
             0.6666666666666666,
             "#ed7953"
            ],
            [
             0.7777777777777778,
             "#fb9f3a"
            ],
            [
             0.8888888888888888,
             "#fdca26"
            ],
            [
             1,
             "#f0f921"
            ]
           ]
          },
          "colorway": [
           "#636efa",
           "#EF553B",
           "#00cc96",
           "#ab63fa",
           "#FFA15A",
           "#19d3f3",
           "#FF6692",
           "#B6E880",
           "#FF97FF",
           "#FECB52"
          ],
          "font": {
           "color": "#2a3f5f"
          },
          "geo": {
           "bgcolor": "white",
           "lakecolor": "white",
           "landcolor": "white",
           "showlakes": true,
           "showland": true,
           "subunitcolor": "#C8D4E3"
          },
          "hoverlabel": {
           "align": "left"
          },
          "hovermode": "closest",
          "mapbox": {
           "style": "light"
          },
          "paper_bgcolor": "white",
          "plot_bgcolor": "white",
          "polar": {
           "angularaxis": {
            "gridcolor": "#EBF0F8",
            "linecolor": "#EBF0F8",
            "ticks": ""
           },
           "bgcolor": "white",
           "radialaxis": {
            "gridcolor": "#EBF0F8",
            "linecolor": "#EBF0F8",
            "ticks": ""
           }
          },
          "scene": {
           "xaxis": {
            "backgroundcolor": "white",
            "gridcolor": "#DFE8F3",
            "gridwidth": 2,
            "linecolor": "#EBF0F8",
            "showbackground": true,
            "ticks": "",
            "zerolinecolor": "#EBF0F8"
           },
           "yaxis": {
            "backgroundcolor": "white",
            "gridcolor": "#DFE8F3",
            "gridwidth": 2,
            "linecolor": "#EBF0F8",
            "showbackground": true,
            "ticks": "",
            "zerolinecolor": "#EBF0F8"
           },
           "zaxis": {
            "backgroundcolor": "white",
            "gridcolor": "#DFE8F3",
            "gridwidth": 2,
            "linecolor": "#EBF0F8",
            "showbackground": true,
            "ticks": "",
            "zerolinecolor": "#EBF0F8"
           }
          },
          "shapedefaults": {
           "line": {
            "color": "#2a3f5f"
           }
          },
          "ternary": {
           "aaxis": {
            "gridcolor": "#DFE8F3",
            "linecolor": "#A2B1C6",
            "ticks": ""
           },
           "baxis": {
            "gridcolor": "#DFE8F3",
            "linecolor": "#A2B1C6",
            "ticks": ""
           },
           "bgcolor": "white",
           "caxis": {
            "gridcolor": "#DFE8F3",
            "linecolor": "#A2B1C6",
            "ticks": ""
           }
          },
          "title": {
           "x": 0.05
          },
          "xaxis": {
           "automargin": true,
           "gridcolor": "#EBF0F8",
           "linecolor": "#EBF0F8",
           "ticks": "",
           "title": {
            "standoff": 15
           },
           "zerolinecolor": "#EBF0F8",
           "zerolinewidth": 2
          },
          "yaxis": {
           "automargin": true,
           "gridcolor": "#EBF0F8",
           "linecolor": "#EBF0F8",
           "ticks": "",
           "title": {
            "standoff": 15
           },
           "zerolinecolor": "#EBF0F8",
           "zerolinewidth": 2
          }
         }
        },
        "title": {
         "text": "Percent male and female applications",
         "x": 0.5
        },
        "width": 800,
        "xaxis": {
         "anchor": "y",
         "autorange": true,
         "domain": [
          0,
          0.49
         ],
         "range": [
          0,
          105.26315789473685
         ],
         "title": {
          "text": ""
         },
         "type": "linear"
        },
        "xaxis2": {
         "anchor": "y2",
         "autorange": true,
         "domain": [
          0.51,
          1
         ],
         "matches": "x",
         "range": [
          0,
          105.26315789473685
         ],
         "title": {
          "text": ""
         },
         "type": "linear"
        },
        "xaxis3": {
         "anchor": "y3",
         "autorange": true,
         "domain": [
          0,
          0.49
         ],
         "matches": "x",
         "range": [
          0,
          105.26315789473685
         ],
         "showticklabels": false,
         "title": {
          "text": ""
         },
         "type": "linear"
        },
        "xaxis4": {
         "anchor": "y4",
         "autorange": true,
         "domain": [
          0.51,
          1
         ],
         "matches": "x",
         "range": [
          0,
          105.26315789473685
         ],
         "showticklabels": false,
         "title": {
          "text": ""
         },
         "type": "linear"
        },
        "xaxis5": {
         "anchor": "y5",
         "autorange": true,
         "domain": [
          0,
          0.49
         ],
         "matches": "x",
         "range": [
          0,
          105.26315789473685
         ],
         "showticklabels": false,
         "title": {
          "text": ""
         },
         "type": "linear"
        },
        "xaxis6": {
         "anchor": "y6",
         "autorange": true,
         "domain": [
          0.51,
          1
         ],
         "matches": "x",
         "range": [
          0,
          105.26315789473685
         ],
         "showticklabels": false,
         "title": {
          "text": ""
         },
         "type": "linear"
        },
        "yaxis": {
         "anchor": "x",
         "autorange": true,
         "domain": [
          0,
          0.2866666666666666
         ],
         "range": [
          -0.5,
          1.5
         ],
         "title": {
          "text": "Gender"
         },
         "type": "category"
        },
        "yaxis2": {
         "anchor": "x2",
         "autorange": true,
         "domain": [
          0,
          0.2866666666666666
         ],
         "matches": "y",
         "range": [
          -0.5,
          1.5
         ],
         "showticklabels": false,
         "type": "category"
        },
        "yaxis3": {
         "anchor": "x3",
         "autorange": true,
         "domain": [
          0.35666666666666663,
          0.6433333333333333
         ],
         "matches": "y",
         "range": [
          -0.5,
          1.5
         ],
         "title": {
          "text": "gender"
         },
         "type": "category"
        },
        "yaxis4": {
         "anchor": "x4",
         "autorange": true,
         "domain": [
          0.35666666666666663,
          0.6433333333333333
         ],
         "matches": "y",
         "range": [
          -0.5,
          1.5
         ],
         "showticklabels": false,
         "type": "category"
        },
        "yaxis5": {
         "anchor": "x5",
         "autorange": true,
         "domain": [
          0.7133333333333333,
          0.9999999999999999
         ],
         "matches": "y",
         "range": [
          -0.5,
          1.5
         ],
         "title": {
          "text": "gender"
         },
         "type": "category"
        },
        "yaxis6": {
         "anchor": "x6",
         "autorange": true,
         "domain": [
          0.7133333333333333,
          0.9999999999999999
         ],
         "matches": "y",
         "range": [
          -0.5,
          1.5
         ],
         "showticklabels": false,
         "type": "category"
        }
       }
      },
      "image/png": "[encoded data removed]",
      "text/html": [
       "<div>                            <div id=\"a000eb7a-e015-418a-be16-35ee55f43657\" class=\"plotly-graph-div\" style=\"height:500px; width:800px;\"></div>            <script type=\"text/javascript\">                require([\"plotly\"], function(Plotly) {                    window.PLOTLYENV=window.PLOTLYENV || {};                                    if (document.getElementById(\"a000eb7a-e015-418a-be16-35ee55f43657\")) {                    Plotly.newPlot(                        \"a000eb7a-e015-418a-be16-35ee55f43657\",                        [{\"alignmentgroup\":\"True\",\"bingroup\":\"y\",\"histfunc\":\"sum\",\"hovertemplate\":\"admitted=Yes\\u003cbr\\u003eDepartment=A\\u003cbr\\u003esum of Number (normalized as percent)=%{x}\\u003cbr\\u003egender=%{y}\\u003cextra\\u003e\\u003c\\u002fextra\\u003e\",\"legendgroup\":\"Yes\",\"marker\":{\"color\":\"#2ca25f\",\"pattern\":{\"shape\":\"\"}},\"name\":\"Yes\",\"offsetgroup\":\"Yes\",\"orientation\":\"h\",\"showlegend\":true,\"x\":[512,89],\"xaxis\":\"x5\",\"y\":[\"Male\",\"Female\"],\"yaxis\":\"y5\",\"type\":\"histogram\"},{\"alignmentgroup\":\"True\",\"bingroup\":\"y\",\"histfunc\":\"sum\",\"hovertemplate\":\"admitted=Yes\\u003cbr\\u003eDepartment=B\\u003cbr\\u003esum of Number (normalized as percent)=%{x}\\u003cbr\\u003egender=%{y}\\u003cextra\\u003e\\u003c\\u002fextra\\u003e\",\"legendgroup\":\"Yes\",\"marker\":{\"color\":\"#2ca25f\",\"pattern\":{\"shape\":\"\"}},\"name\":\"Yes\",\"offsetgroup\":\"Yes\",\"orientation\":\"h\",\"showlegend\":false,\"x\":[353,17],\"xaxis\":\"x6\",\"y\":[\"Male\",\"Female\"],\"yaxis\":\"y6\",\"type\":\"histogram\"},{\"alignmentgroup\":\"True\",\"bingroup\":\"y\",\"histfunc\":\"sum\",\"hovertemplate\":\"admitted=Yes\\u003cbr\\u003eDepartment=C\\u003cbr\\u003esum of Number (normalized as percent)=%{x}\\u003cbr\\u003egender=%{y}\\u003cextra\\u003e\\u003c\\u002fextra\\u003e\",\"legendgroup\":\"Yes\",\"marker\":{\"color\":\"#2ca25f\",\"pattern\":{\"shape\":\"\"}},\"name\":\"Yes\",\"offsetgroup\":\"Yes\",\"orientation\":\"h\",\"showlegend\":false,\"x\":[120,202],\"xaxis\":\"x3\",\"y\":[\"Male\",\"Female\"],\"yaxis\":\"y3\",\"type\":\"histogram\"},{\"alignmentgroup\":\"True\",\"bingroup\":\"y\",\"histfunc\":\"sum\",\"hovertemplate\":\"admitted=Yes\\u003cbr\\u003eDepartment=D\\u003cbr\\u003esum of Number (normalized as percent)=%{x}\\u003cbr\\u003egender=%{y}\\u003cextra\\u003e\\u003c\\u002fextra\\u003e\",\"legendgroup\":\"Yes\",\"marker\":{\"color\":\"#2ca25f\",\"pattern\":{\"shape\":\"\"}},\"name\":\"Yes\",\"offsetgroup\":\"Yes\",\"orientation\":\"h\",\"showlegend\":false,\"x\":[138,131],\"xaxis\":\"x4\",\"y\":[\"Male\",\"Female\"],\"yaxis\":\"y4\",\"type\":\"histogram\"},{\"alignmentgroup\":\"True\",\"bingroup\":\"y\",\"histfunc\":\"sum\",\"hovertemplate\":\"admitted=Yes\\u003cbr\\u003eDepartment=E\\u003cbr\\u003esum of Number (normalized as percent)=%{x}\\u003cbr\\u003egender=%{y}\\u003cextra\\u003e\\u003c\\u002fextra\\u003e\",\"legendgroup\":\"Yes\",\"marker\":{\"color\":\"#2ca25f\",\"pattern\":{\"shape\":\"\"}},\"name\":\"Yes\",\"offsetgroup\":\"Yes\",\"orientation\":\"h\",\"showlegend\":false,\"x\":[53,94],\"xaxis\":\"x\",\"y\":[\"Male\",\"Female\"],\"yaxis\":\"y\",\"type\":\"histogram\"},{\"alignmentgroup\":\"True\",\"bingroup\":\"y\",\"histfunc\":\"sum\",\"hovertemplate\":\"admitted=Yes\\u003cbr\\u003eDepartment=F\\u003cbr\\u003esum of Number (normalized as percent)=%{x}\\u003cbr\\u003egender=%{y}\\u003cextra\\u003e\\u003c\\u002fextra\\u003e\",\"legendgroup\":\"Yes\",\"marker\":{\"color\":\"#2ca25f\",\"pattern\":{\"shape\":\"\"}},\"name\":\"Yes\",\"offsetgroup\":\"Yes\",\"orientation\":\"h\",\"showlegend\":false,\"x\":[22,24],\"xaxis\":\"x2\",\"y\":[\"Male\",\"Female\"],\"yaxis\":\"y2\",\"type\":\"histogram\"},{\"alignmentgroup\":\"True\",\"bingroup\":\"y\",\"histfunc\":\"sum\",\"hovertemplate\":\"admitted=No\\u003cbr\\u003eDepartment=A\\u003cbr\\u003esum of Number (normalized as percent)=%{x}\\u003cbr\\u003egender=%{y}\\u003cextra\\u003e\\u003c\\u002fextra\\u003e\",\"legendgroup\":\"No\",\"marker\":{\"color\":\"#99d8c9\",\"pattern\":{\"shape\":\"\"}},\"name\":\"No\",\"offsetgroup\":\"No\",\"orientation\":\"h\",\"showlegend\":true,\"x\":[313,19],\"xaxis\":\"x5\",\"y\":[\"Male\",\"Female\"],\"yaxis\":\"y5\",\"type\":\"histogram\"},{\"alignmentgroup\":\"True\",\"bingroup\":\"y\",\"histfunc\":\"sum\",\"hovertemplate\":\"admitted=No\\u003cbr\\u003eDepartment=B\\u003cbr\\u003esum of Number (normalized as percent)=%{x}\\u003cbr\\u003egender=%{y}\\u003cextra\\u003e\\u003c\\u002fextra\\u003e\",\"legendgroup\":\"No\",\"marker\":{\"color\":\"#99d8c9\",\"pattern\":{\"shape\":\"\"}},\"name\":\"No\",\"offsetgroup\":\"No\",\"orientation\":\"h\",\"showlegend\":false,\"x\":[207,8],\"xaxis\":\"x6\",\"y\":[\"Male\",\"Female\"],\"yaxis\":\"y6\",\"type\":\"histogram\"},{\"alignmentgroup\":\"True\",\"bingroup\":\"y\",\"histfunc\":\"sum\",\"hovertemplate\":\"admitted=No\\u003cbr\\u003eDepartment=C\\u003cbr\\u003esum of Number (normalized as percent)=%{x}\\u003cbr\\u003egender=%{y}\\u003cextra\\u003e\\u003c\\u002fextra\\u003e\",\"legendgroup\":\"No\",\"marker\":{\"color\":\"#99d8c9\",\"pattern\":{\"shape\":\"\"}},\"name\":\"No\",\"offsetgroup\":\"No\",\"orientation\":\"h\",\"showlegend\":false,\"x\":[205,391],\"xaxis\":\"x3\",\"y\":[\"Male\",\"Female\"],\"yaxis\":\"y3\",\"type\":\"histogram\"},{\"alignmentgroup\":\"True\",\"bingroup\":\"y\",\"histfunc\":\"sum\",\"hovertemplate\":\"admitted=No\\u003cbr\\u003eDepartment=D\\u003cbr\\u003esum of Number (normalized as percent)=%{x}\\u003cbr\\u003egender=%{y}\\u003cextra\\u003e\\u003c\\u002fextra\\u003e\",\"legendgroup\":\"No\",\"marker\":{\"color\":\"#99d8c9\",\"pattern\":{\"shape\":\"\"}},\"name\":\"No\",\"offsetgroup\":\"No\",\"orientation\":\"h\",\"showlegend\":false,\"x\":[279,244],\"xaxis\":\"x4\",\"y\":[\"Male\",\"Female\"],\"yaxis\":\"y4\",\"type\":\"histogram\"},{\"alignmentgroup\":\"True\",\"bingroup\":\"y\",\"histfunc\":\"sum\",\"hovertemplate\":\"admitted=No\\u003cbr\\u003eDepartment=E\\u003cbr\\u003esum of Number (normalized as percent)=%{x}\\u003cbr\\u003egender=%{y}\\u003cextra\\u003e\\u003c\\u002fextra\\u003e\",\"legendgroup\":\"No\",\"marker\":{\"color\":\"#99d8c9\",\"pattern\":{\"shape\":\"\"}},\"name\":\"No\",\"offsetgroup\":\"No\",\"orientation\":\"h\",\"showlegend\":false,\"x\":[138,299],\"xaxis\":\"x\",\"y\":[\"Male\",\"Female\"],\"yaxis\":\"y\",\"type\":\"histogram\"},{\"alignmentgroup\":\"True\",\"bingroup\":\"y\",\"histfunc\":\"sum\",\"hovertemplate\":\"admitted=No\\u003cbr\\u003eDepartment=F\\u003cbr\\u003esum of Number (normalized as percent)=%{x}\\u003cbr\\u003egender=%{y}\\u003cextra\\u003e\\u003c\\u002fextra\\u003e\",\"legendgroup\":\"No\",\"marker\":{\"color\":\"#99d8c9\",\"pattern\":{\"shape\":\"\"}},\"name\":\"No\",\"offsetgroup\":\"No\",\"orientation\":\"h\",\"showlegend\":false,\"x\":[351,317],\"xaxis\":\"x2\",\"y\":[\"Male\",\"Female\"],\"yaxis\":\"y2\",\"type\":\"histogram\"}],                        {\"template\":{\"data\":{\"barpolar\":[{\"marker\":{\"line\":{\"color\":\"white\",\"width\":0.5},\"pattern\":{\"fillmode\":\"overlay\",\"size\":10,\"solidity\":0.2}},\"type\":\"barpolar\"}],\"bar\":[{\"error_x\":{\"color\":\"#2a3f5f\"},\"error_y\":{\"color\":\"#2a3f5f\"},\"marker\":{\"line\":{\"color\":\"white\",\"width\":0.5},\"pattern\":{\"fillmode\":\"overlay\",\"size\":10,\"solidity\":0.2}},\"type\":\"bar\"}],\"carpet\":[{\"aaxis\":{\"endlinecolor\":\"#2a3f5f\",\"gridcolor\":\"#C8D4E3\",\"linecolor\":\"#C8D4E3\",\"minorgridcolor\":\"#C8D4E3\",\"startlinecolor\":\"#2a3f5f\"},\"baxis\":{\"endlinecolor\":\"#2a3f5f\",\"gridcolor\":\"#C8D4E3\",\"linecolor\":\"#C8D4E3\",\"minorgridcolor\":\"#C8D4E3\",\"startlinecolor\":\"#2a3f5f\"},\"type\":\"carpet\"}],\"choropleth\":[{\"colorbar\":{\"outlinewidth\":0,\"ticks\":\"\"},\"type\":\"choropleth\"}],\"contourcarpet\":[{\"colorbar\":{\"outlinewidth\":0,\"ticks\":\"\"},\"type\":\"contourcarpet\"}],\"contour\":[{\"colorbar\":{\"outlinewidth\":0,\"ticks\":\"\"},\"colorscale\":[[0.0,\"#0d0887\"],[0.1111111111111111,\"#46039f\"],[0.2222222222222222,\"#7201a8\"],[0.3333333333333333,\"#9c179e\"],[0.4444444444444444,\"#bd3786\"],[0.5555555555555556,\"#d8576b\"],[0.6666666666666666,\"#ed7953\"],[0.7777777777777778,\"#fb9f3a\"],[0.8888888888888888,\"#fdca26\"],[1.0,\"#f0f921\"]],\"type\":\"contour\"}],\"heatmapgl\":[{\"colorbar\":{\"outlinewidth\":0,\"ticks\":\"\"},\"colorscale\":[[0.0,\"#0d0887\"],[0.1111111111111111,\"#46039f\"],[0.2222222222222222,\"#7201a8\"],[0.3333333333333333,\"#9c179e\"],[0.4444444444444444,\"#bd3786\"],[0.5555555555555556,\"#d8576b\"],[0.6666666666666666,\"#ed7953\"],[0.7777777777777778,\"#fb9f3a\"],[0.8888888888888888,\"#fdca26\"],[1.0,\"#f0f921\"]],\"type\":\"heatmapgl\"}],\"heatmap\":[{\"colorbar\":{\"outlinewidth\":0,\"ticks\":\"\"},\"colorscale\":[[0.0,\"#0d0887\"],[0.1111111111111111,\"#46039f\"],[0.2222222222222222,\"#7201a8\"],[0.3333333333333333,\"#9c179e\"],[0.4444444444444444,\"#bd3786\"],[0.5555555555555556,\"#d8576b\"],[0.6666666666666666,\"#ed7953\"],[0.7777777777777778,\"#fb9f3a\"],[0.8888888888888888,\"#fdca26\"],[1.0,\"#f0f921\"]],\"type\":\"heatmap\"}],\"histogram2dcontour\":[{\"colorbar\":{\"outlinewidth\":0,\"ticks\":\"\"},\"colorscale\":[[0.0,\"#0d0887\"],[0.1111111111111111,\"#46039f\"],[0.2222222222222222,\"#7201a8\"],[0.3333333333333333,\"#9c179e\"],[0.4444444444444444,\"#bd3786\"],[0.5555555555555556,\"#d8576b\"],[0.6666666666666666,\"#ed7953\"],[0.7777777777777778,\"#fb9f3a\"],[0.8888888888888888,\"#fdca26\"],[1.0,\"#f0f921\"]],\"type\":\"histogram2dcontour\"}],\"histogram2d\":[{\"colorbar\":{\"outlinewidth\":0,\"ticks\":\"\"},\"colorscale\":[[0.0,\"#0d0887\"],[0.1111111111111111,\"#46039f\"],[0.2222222222222222,\"#7201a8\"],[0.3333333333333333,\"#9c179e\"],[0.4444444444444444,\"#bd3786\"],[0.5555555555555556,\"#d8576b\"],[0.6666666666666666,\"#ed7953\"],[0.7777777777777778,\"#fb9f3a\"],[0.8888888888888888,\"#fdca26\"],[1.0,\"#f0f921\"]],\"type\":\"histogram2d\"}],\"histogram\":[{\"marker\":{\"pattern\":{\"fillmode\":\"overlay\",\"size\":10,\"solidity\":0.2}},\"type\":\"histogram\"}],\"mesh3d\":[{\"colorbar\":{\"outlinewidth\":0,\"ticks\":\"\"},\"type\":\"mesh3d\"}],\"parcoords\":[{\"line\":{\"colorbar\":{\"outlinewidth\":0,\"ticks\":\"\"}},\"type\":\"parcoords\"}],\"pie\":[{\"automargin\":true,\"type\":\"pie\"}],\"scatter3d\":[{\"line\":{\"colorbar\":{\"outlinewidth\":0,\"ticks\":\"\"}},\"marker\":{\"colorbar\":{\"outlinewidth\":0,\"ticks\":\"\"}},\"type\":\"scatter3d\"}],\"scattercarpet\":[{\"marker\":{\"colorbar\":{\"outlinewidth\":0,\"ticks\":\"\"}},\"type\":\"scattercarpet\"}],\"scattergeo\":[{\"marker\":{\"colorbar\":{\"outlinewidth\":0,\"ticks\":\"\"}},\"type\":\"scattergeo\"}],\"scattergl\":[{\"marker\":{\"colorbar\":{\"outlinewidth\":0,\"ticks\":\"\"}},\"type\":\"scattergl\"}],\"scattermapbox\":[{\"marker\":{\"colorbar\":{\"outlinewidth\":0,\"ticks\":\"\"}},\"type\":\"scattermapbox\"}],\"scatterpolargl\":[{\"marker\":{\"colorbar\":{\"outlinewidth\":0,\"ticks\":\"\"}},\"type\":\"scatterpolargl\"}],\"scatterpolar\":[{\"marker\":{\"colorbar\":{\"outlinewidth\":0,\"ticks\":\"\"}},\"type\":\"scatterpolar\"}],\"scatter\":[{\"fillpattern\":{\"fillmode\":\"overlay\",\"size\":10,\"solidity\":0.2},\"type\":\"scatter\"}],\"scatterternary\":[{\"marker\":{\"colorbar\":{\"outlinewidth\":0,\"ticks\":\"\"}},\"type\":\"scatterternary\"}],\"surface\":[{\"colorbar\":{\"outlinewidth\":0,\"ticks\":\"\"},\"colorscale\":[[0.0,\"#0d0887\"],[0.1111111111111111,\"#46039f\"],[0.2222222222222222,\"#7201a8\"],[0.3333333333333333,\"#9c179e\"],[0.4444444444444444,\"#bd3786\"],[0.5555555555555556,\"#d8576b\"],[0.6666666666666666,\"#ed7953\"],[0.7777777777777778,\"#fb9f3a\"],[0.8888888888888888,\"#fdca26\"],[1.0,\"#f0f921\"]],\"type\":\"surface\"}],\"table\":[{\"cells\":{\"fill\":{\"color\":\"#EBF0F8\"},\"line\":{\"color\":\"white\"}},\"header\":{\"fill\":{\"color\":\"#C8D4E3\"},\"line\":{\"color\":\"white\"}},\"type\":\"table\"}]},\"layout\":{\"annotationdefaults\":{\"arrowcolor\":\"#2a3f5f\",\"arrowhead\":0,\"arrowwidth\":1},\"autotypenumbers\":\"strict\",\"coloraxis\":{\"colorbar\":{\"outlinewidth\":0,\"ticks\":\"\"}},\"colorscale\":{\"diverging\":[[0,\"#8e0152\"],[0.1,\"#c51b7d\"],[0.2,\"#de77ae\"],[0.3,\"#f1b6da\"],[0.4,\"#fde0ef\"],[0.5,\"#f7f7f7\"],[0.6,\"#e6f5d0\"],[0.7,\"#b8e186\"],[0.8,\"#7fbc41\"],[0.9,\"#4d9221\"],[1,\"#276419\"]],\"sequential\":[[0.0,\"#0d0887\"],[0.1111111111111111,\"#46039f\"],[0.2222222222222222,\"#7201a8\"],[0.3333333333333333,\"#9c179e\"],[0.4444444444444444,\"#bd3786\"],[0.5555555555555556,\"#d8576b\"],[0.6666666666666666,\"#ed7953\"],[0.7777777777777778,\"#fb9f3a\"],[0.8888888888888888,\"#fdca26\"],[1.0,\"#f0f921\"]],\"sequentialminus\":[[0.0,\"#0d0887\"],[0.1111111111111111,\"#46039f\"],[0.2222222222222222,\"#7201a8\"],[0.3333333333333333,\"#9c179e\"],[0.4444444444444444,\"#bd3786\"],[0.5555555555555556,\"#d8576b\"],[0.6666666666666666,\"#ed7953\"],[0.7777777777777778,\"#fb9f3a\"],[0.8888888888888888,\"#fdca26\"],[1.0,\"#f0f921\"]]},\"colorway\":[\"#636efa\",\"#EF553B\",\"#00cc96\",\"#ab63fa\",\"#FFA15A\",\"#19d3f3\",\"#FF6692\",\"#B6E880\",\"#FF97FF\",\"#FECB52\"],\"font\":{\"color\":\"#2a3f5f\"},\"geo\":{\"bgcolor\":\"white\",\"lakecolor\":\"white\",\"landcolor\":\"white\",\"showlakes\":true,\"showland\":true,\"subunitcolor\":\"#C8D4E3\"},\"hoverlabel\":{\"align\":\"left\"},\"hovermode\":\"closest\",\"mapbox\":{\"style\":\"light\"},\"paper_bgcolor\":\"white\",\"plot_bgcolor\":\"white\",\"polar\":{\"angularaxis\":{\"gridcolor\":\"#EBF0F8\",\"linecolor\":\"#EBF0F8\",\"ticks\":\"\"},\"bgcolor\":\"white\",\"radialaxis\":{\"gridcolor\":\"#EBF0F8\",\"linecolor\":\"#EBF0F8\",\"ticks\":\"\"}},\"scene\":{\"xaxis\":{\"backgroundcolor\":\"white\",\"gridcolor\":\"#DFE8F3\",\"gridwidth\":2,\"linecolor\":\"#EBF0F8\",\"showbackground\":true,\"ticks\":\"\",\"zerolinecolor\":\"#EBF0F8\"},\"yaxis\":{\"backgroundcolor\":\"white\",\"gridcolor\":\"#DFE8F3\",\"gridwidth\":2,\"linecolor\":\"#EBF0F8\",\"showbackground\":true,\"ticks\":\"\",\"zerolinecolor\":\"#EBF0F8\"},\"zaxis\":{\"backgroundcolor\":\"white\",\"gridcolor\":\"#DFE8F3\",\"gridwidth\":2,\"linecolor\":\"#EBF0F8\",\"showbackground\":true,\"ticks\":\"\",\"zerolinecolor\":\"#EBF0F8\"}},\"shapedefaults\":{\"line\":{\"color\":\"#2a3f5f\"}},\"ternary\":{\"aaxis\":{\"gridcolor\":\"#DFE8F3\",\"linecolor\":\"#A2B1C6\",\"ticks\":\"\"},\"baxis\":{\"gridcolor\":\"#DFE8F3\",\"linecolor\":\"#A2B1C6\",\"ticks\":\"\"},\"bgcolor\":\"white\",\"caxis\":{\"gridcolor\":\"#DFE8F3\",\"linecolor\":\"#A2B1C6\",\"ticks\":\"\"}},\"title\":{\"x\":0.05},\"xaxis\":{\"automargin\":true,\"gridcolor\":\"#EBF0F8\",\"linecolor\":\"#EBF0F8\",\"ticks\":\"\",\"title\":{\"standoff\":15},\"zerolinecolor\":\"#EBF0F8\",\"zerolinewidth\":2},\"yaxis\":{\"automargin\":true,\"gridcolor\":\"#EBF0F8\",\"linecolor\":\"#EBF0F8\",\"ticks\":\"\",\"title\":{\"standoff\":15},\"zerolinecolor\":\"#EBF0F8\",\"zerolinewidth\":2}}},\"xaxis\":{\"anchor\":\"y\",\"domain\":[0.0,0.49],\"title\":{\"text\":\"\"}},\"yaxis\":{\"anchor\":\"x\",\"domain\":[0.0,0.2866666666666666],\"title\":{\"text\":\"Gender\"}},\"xaxis2\":{\"anchor\":\"y2\",\"domain\":[0.51,1.0],\"matches\":\"x\",\"title\":{\"text\":\"\"}},\"yaxis2\":{\"anchor\":\"x2\",\"domain\":[0.0,0.2866666666666666],\"matches\":\"y\",\"showticklabels\":false},\"xaxis3\":{\"anchor\":\"y3\",\"domain\":[0.0,0.49],\"matches\":\"x\",\"showticklabels\":false,\"title\":{\"text\":\"\"}},\"yaxis3\":{\"anchor\":\"x3\",\"domain\":[0.35666666666666663,0.6433333333333333],\"matches\":\"y\",\"title\":{\"text\":\"gender\"}},\"xaxis4\":{\"anchor\":\"y4\",\"domain\":[0.51,1.0],\"matches\":\"x\",\"showticklabels\":false,\"title\":{\"text\":\"\"}},\"yaxis4\":{\"anchor\":\"x4\",\"domain\":[0.35666666666666663,0.6433333333333333],\"matches\":\"y\",\"showticklabels\":false},\"xaxis5\":{\"anchor\":\"y5\",\"domain\":[0.0,0.49],\"matches\":\"x\",\"showticklabels\":false,\"title\":{\"text\":\"\"}},\"yaxis5\":{\"anchor\":\"x5\",\"domain\":[0.7133333333333333,0.9999999999999999],\"matches\":\"y\",\"title\":{\"text\":\"gender\"}},\"xaxis6\":{\"anchor\":\"y6\",\"domain\":[0.51,1.0],\"matches\":\"x\",\"showticklabels\":false,\"title\":{\"text\":\"\"}},\"yaxis6\":{\"anchor\":\"x6\",\"domain\":[0.7133333333333333,0.9999999999999999],\"matches\":\"y\",\"showticklabels\":false},\"annotations\":[{\"font\":{},\"showarrow\":false,\"text\":\"E\",\"x\":0.245,\"xanchor\":\"center\",\"xref\":\"paper\",\"y\":0.2866666666666666,\"yanchor\":\"bottom\",\"yref\":\"paper\"},{\"font\":{},\"showarrow\":false,\"text\":\"F\",\"x\":0.755,\"xanchor\":\"center\",\"xref\":\"paper\",\"y\":0.2866666666666666,\"yanchor\":\"bottom\",\"yref\":\"paper\"},{\"font\":{},\"showarrow\":false,\"text\":\"C\",\"x\":0.245,\"xanchor\":\"center\",\"xref\":\"paper\",\"y\":0.6433333333333333,\"yanchor\":\"bottom\",\"yref\":\"paper\"},{\"font\":{},\"showarrow\":false,\"text\":\"D\",\"x\":0.755,\"xanchor\":\"center\",\"xref\":\"paper\",\"y\":0.6433333333333333,\"yanchor\":\"bottom\",\"yref\":\"paper\"},{\"font\":{},\"showarrow\":false,\"text\":\"A\",\"x\":0.245,\"xanchor\":\"center\",\"xref\":\"paper\",\"y\":0.9999999999999999,\"yanchor\":\"bottom\",\"yref\":\"paper\"},{\"font\":{},\"showarrow\":false,\"text\":\"B\",\"x\":0.755,\"xanchor\":\"center\",\"xref\":\"paper\",\"y\":0.9999999999999999,\"yanchor\":\"bottom\",\"yref\":\"paper\"}],\"legend\":{\"title\":{\"text\":\"Admitted\"},\"tracegroupgap\":0},\"margin\":{\"t\":60},\"barmode\":\"relative\",\"barnorm\":\"percent\",\"title\":{\"text\":\"Percent male and female applications\",\"x\":0.5},\"autosize\":false,\"width\":800,\"height\":500},                        {\"responsive\": true}                    ).then(function(){\n",
       "                            \n",
       "var gd = document.getElementById('a000eb7a-e015-418a-be16-35ee55f43657');\n",
       "var x = new MutationObserver(function (mutations, observer) {{\n",
       "        var display = window.getComputedStyle(gd).display;\n",
       "        if (!display || display === 'none') {{\n",
       "            console.log([gd, 'removed!']);\n",
       "            Plotly.purge(gd);\n",
       "            observer.disconnect();\n",
       "        }}\n",
       "}});\n",
       "\n",
       "// Listen for the removal of the full notebook cells\n",
       "var notebookContainer = gd.closest('#notebook-container');\n",
       "if (notebookContainer) {{\n",
       "    x.observe(notebookContainer, {childList: true});\n",
       "}}\n",
       "\n",
       "// Listen for the clearing of the current output cell\n",
       "var outputEl = gd.closest('.output');\n",
       "if (outputEl) {{\n",
       "    x.observe(outputEl, {childList: true});\n",
       "}}\n",
       "\n",
       "                        })                };                });            </script>        </div>"
      ]
     },
     "metadata": {},
     "output_type": "display_data"
    }
   ],
   "source": [
    "fig = px.histogram(DF_melt,\n",
    "                   y='gender',\n",
    "                   x='Number',\n",
    "                   barnorm = \"percent\",\n",
    "                   color='admitted',\n",
    "                   facet_col='Department',\n",
    "                   facet_col_wrap=2,\n",
    "                   color_discrete_map = {'No':'#99d8c9','Yes':'#2ca25f'})\n",
    "\n",
    "fig.for_each_annotation(lambda a: a.update(text=a.text.split(\"=\")[1]))\n",
    "fig.update_xaxes(title_text='')\n",
    "\n",
    "fig.update_layout(title='Percent male and female applications',\n",
    "                  title_x=0.5,\n",
    "                  template=\"plotly_white\",\n",
    "                  xaxis_title=\"\",\n",
    "                  yaxis_title=\"Gender\",\n",
    "                  legend_title='Admitted',\n",
    "                  autosize=False,\n",
    "                  width=800,\n",
    "                  height=500)\n",
    "\n",
    "fig.show()"
   ]
  },
  {
   "cell_type": "markdown",
   "id": "a40fab13-19ce-4835-8a0c-145796c99d93",
   "metadata": {},
   "source": [
    "------------------------\n",
    "------------------------\n",
    "\n",
    "## Homework - Exercises\n",
    "\n",
    "** Homework content and data from Data Science in a Box - he-05-legos.Rmd\n",
    "\n",
    "This week we'll do some data gymnastics to refresh and review what we learned over the past few weeks using (**simulated**) data from Lego sales in 2018 for a sample of customers who bought Legos in the US. This is different than the data we used on the Exam!\n",
    "\n",
    "\n",
    "### Data"
   ]
  },
  {
   "cell_type": "code",
   "execution_count": 403,
   "id": "c5775204-ebb3-4e1c-a300-d4985aec01d5",
   "metadata": {},
   "outputs": [
    {
     "data": {
      "text/html": [
       "<div>\n",
       "<style scoped>\n",
       "    .dataframe tbody tr th:only-of-type {\n",
       "        vertical-align: middle;\n",
       "    }\n",
       "\n",
       "    .dataframe tbody tr th {\n",
       "        vertical-align: top;\n",
       "    }\n",
       "\n",
       "    .dataframe thead th {\n",
       "        text-align: right;\n",
       "    }\n",
       "</style>\n",
       "<table border=\"1\" class=\"dataframe\">\n",
       "  <thead>\n",
       "    <tr style=\"text-align: right;\">\n",
       "      <th></th>\n",
       "      <th>first_name</th>\n",
       "      <th>last_name</th>\n",
       "      <th>age</th>\n",
       "      <th>phone_number</th>\n",
       "      <th>set_id</th>\n",
       "      <th>number</th>\n",
       "      <th>theme</th>\n",
       "      <th>subtheme</th>\n",
       "      <th>year</th>\n",
       "      <th>name</th>\n",
       "      <th>pieces</th>\n",
       "      <th>us_price</th>\n",
       "      <th>image_url</th>\n",
       "      <th>quantity</th>\n",
       "    </tr>\n",
       "  </thead>\n",
       "  <tbody>\n",
       "    <tr>\n",
       "      <th>0</th>\n",
       "      <td>Kimberly</td>\n",
       "      <td>Beckstead</td>\n",
       "      <td>24</td>\n",
       "      <td>216-555-2549</td>\n",
       "      <td>24701</td>\n",
       "      <td>76062</td>\n",
       "      <td>DC Comics Super Heroes</td>\n",
       "      <td>Mighty Micros</td>\n",
       "      <td>2018</td>\n",
       "      <td>Robin vs. Bane</td>\n",
       "      <td>77.0</td>\n",
       "      <td>9.99</td>\n",
       "      <td>http://images.brickset.com/sets/images/76062-1...</td>\n",
       "      <td>1</td>\n",
       "    </tr>\n",
       "    <tr>\n",
       "      <th>1</th>\n",
       "      <td>Neel</td>\n",
       "      <td>Garvin</td>\n",
       "      <td>35</td>\n",
       "      <td>819-555-3189</td>\n",
       "      <td>25626</td>\n",
       "      <td>70595</td>\n",
       "      <td>Ninjago</td>\n",
       "      <td>Rise of the Villains</td>\n",
       "      <td>2018</td>\n",
       "      <td>Ultra Stealth Raider</td>\n",
       "      <td>1093.0</td>\n",
       "      <td>119.99</td>\n",
       "      <td>http://images.brickset.com/sets/images/70595-1...</td>\n",
       "      <td>1</td>\n",
       "    </tr>\n",
       "    <tr>\n",
       "      <th>2</th>\n",
       "      <td>Neel</td>\n",
       "      <td>Garvin</td>\n",
       "      <td>35</td>\n",
       "      <td>819-555-3189</td>\n",
       "      <td>24665</td>\n",
       "      <td>21031</td>\n",
       "      <td>Architecture</td>\n",
       "      <td>NaN</td>\n",
       "      <td>2018</td>\n",
       "      <td>Burj Khalifa</td>\n",
       "      <td>333.0</td>\n",
       "      <td>39.99</td>\n",
       "      <td>http://images.brickset.com/sets/images/21031-1...</td>\n",
       "      <td>1</td>\n",
       "    </tr>\n",
       "    <tr>\n",
       "      <th>3</th>\n",
       "      <td>Chelsea</td>\n",
       "      <td>Bouchard</td>\n",
       "      <td>41</td>\n",
       "      <td>NaN</td>\n",
       "      <td>24695</td>\n",
       "      <td>31048</td>\n",
       "      <td>Creator</td>\n",
       "      <td>NaN</td>\n",
       "      <td>2018</td>\n",
       "      <td>Lakeside Lodge</td>\n",
       "      <td>368.0</td>\n",
       "      <td>29.99</td>\n",
       "      <td>http://images.brickset.com/sets/images/31048-1...</td>\n",
       "      <td>1</td>\n",
       "    </tr>\n",
       "    <tr>\n",
       "      <th>4</th>\n",
       "      <td>Chelsea</td>\n",
       "      <td>Bouchard</td>\n",
       "      <td>41</td>\n",
       "      <td>NaN</td>\n",
       "      <td>25626</td>\n",
       "      <td>70595</td>\n",
       "      <td>Ninjago</td>\n",
       "      <td>Rise of the Villains</td>\n",
       "      <td>2018</td>\n",
       "      <td>Ultra Stealth Raider</td>\n",
       "      <td>1093.0</td>\n",
       "      <td>119.99</td>\n",
       "      <td>http://images.brickset.com/sets/images/70595-1...</td>\n",
       "      <td>1</td>\n",
       "    </tr>\n",
       "    <tr>\n",
       "      <th>...</th>\n",
       "      <td>...</td>\n",
       "      <td>...</td>\n",
       "      <td>...</td>\n",
       "      <td>...</td>\n",
       "      <td>...</td>\n",
       "      <td>...</td>\n",
       "      <td>...</td>\n",
       "      <td>...</td>\n",
       "      <td>...</td>\n",
       "      <td>...</td>\n",
       "      <td>...</td>\n",
       "      <td>...</td>\n",
       "      <td>...</td>\n",
       "      <td>...</td>\n",
       "    </tr>\n",
       "    <tr>\n",
       "      <th>615</th>\n",
       "      <td>Talise</td>\n",
       "      <td>Nieukirk</td>\n",
       "      <td>16</td>\n",
       "      <td>801-555-2343</td>\n",
       "      <td>24902</td>\n",
       "      <td>41556</td>\n",
       "      <td>Mixels</td>\n",
       "      <td>Series 7</td>\n",
       "      <td>2018</td>\n",
       "      <td>Tiketz</td>\n",
       "      <td>62.0</td>\n",
       "      <td>4.99</td>\n",
       "      <td>http://images.brickset.com/sets/images/41556-1...</td>\n",
       "      <td>2</td>\n",
       "    </tr>\n",
       "    <tr>\n",
       "      <th>616</th>\n",
       "      <td>Spencer</td>\n",
       "      <td>Morgan</td>\n",
       "      <td>28</td>\n",
       "      <td>784-555-3455</td>\n",
       "      <td>26041</td>\n",
       "      <td>41580</td>\n",
       "      <td>Mixels</td>\n",
       "      <td>Series 9</td>\n",
       "      <td>2018</td>\n",
       "      <td>Myke</td>\n",
       "      <td>63.0</td>\n",
       "      <td>4.99</td>\n",
       "      <td>NaN</td>\n",
       "      <td>2</td>\n",
       "    </tr>\n",
       "    <tr>\n",
       "      <th>617</th>\n",
       "      <td>Spencer</td>\n",
       "      <td>Morgan</td>\n",
       "      <td>28</td>\n",
       "      <td>784-555-3455</td>\n",
       "      <td>26060</td>\n",
       "      <td>5005051</td>\n",
       "      <td>Gear</td>\n",
       "      <td>Digital Media</td>\n",
       "      <td>2018</td>\n",
       "      <td>Friends of Heartlake City Girlz 4 Life</td>\n",
       "      <td>NaN</td>\n",
       "      <td>19.99</td>\n",
       "      <td>NaN</td>\n",
       "      <td>1</td>\n",
       "    </tr>\n",
       "    <tr>\n",
       "      <th>618</th>\n",
       "      <td>Amelia</td>\n",
       "      <td>Hageman</td>\n",
       "      <td>40</td>\n",
       "      <td>336-555-1950</td>\n",
       "      <td>24702</td>\n",
       "      <td>76063</td>\n",
       "      <td>DC Comics Super Heroes</td>\n",
       "      <td>Mighty Micros</td>\n",
       "      <td>2018</td>\n",
       "      <td>The Flash vs. Captain Cold</td>\n",
       "      <td>88.0</td>\n",
       "      <td>9.99</td>\n",
       "      <td>http://images.brickset.com/sets/images/76063-1...</td>\n",
       "      <td>2</td>\n",
       "    </tr>\n",
       "    <tr>\n",
       "      <th>619</th>\n",
       "      <td>Amelia</td>\n",
       "      <td>Hageman</td>\n",
       "      <td>40</td>\n",
       "      <td>336-555-1950</td>\n",
       "      <td>24720</td>\n",
       "      <td>10830</td>\n",
       "      <td>Duplo</td>\n",
       "      <td>NaN</td>\n",
       "      <td>2018</td>\n",
       "      <td>Minnie's Café</td>\n",
       "      <td>27.0</td>\n",
       "      <td>19.99</td>\n",
       "      <td>http://images.brickset.com/sets/images/10830-1...</td>\n",
       "      <td>4</td>\n",
       "    </tr>\n",
       "  </tbody>\n",
       "</table>\n",
       "<p>620 rows × 14 columns</p>\n",
       "</div>"
      ],
      "text/plain": [
       "    first_name  last_name  age  phone_number  set_id   number  \\\n",
       "0     Kimberly  Beckstead   24  216-555-2549   24701    76062   \n",
       "1         Neel     Garvin   35  819-555-3189   25626    70595   \n",
       "2         Neel     Garvin   35  819-555-3189   24665    21031   \n",
       "3      Chelsea   Bouchard   41           NaN   24695    31048   \n",
       "4      Chelsea   Bouchard   41           NaN   25626    70595   \n",
       "..         ...        ...  ...           ...     ...      ...   \n",
       "615     Talise   Nieukirk   16  801-555-2343   24902    41556   \n",
       "616    Spencer     Morgan   28  784-555-3455   26041    41580   \n",
       "617    Spencer     Morgan   28  784-555-3455   26060  5005051   \n",
       "618     Amelia    Hageman   40  336-555-1950   24702    76063   \n",
       "619     Amelia    Hageman   40  336-555-1950   24720    10830   \n",
       "\n",
       "                      theme              subtheme  year  \\\n",
       "0    DC Comics Super Heroes         Mighty Micros  2018   \n",
       "1                   Ninjago  Rise of the Villains  2018   \n",
       "2              Architecture                   NaN  2018   \n",
       "3                   Creator                   NaN  2018   \n",
       "4                   Ninjago  Rise of the Villains  2018   \n",
       "..                      ...                   ...   ...   \n",
       "615                  Mixels              Series 7  2018   \n",
       "616                  Mixels              Series 9  2018   \n",
       "617                    Gear         Digital Media  2018   \n",
       "618  DC Comics Super Heroes         Mighty Micros  2018   \n",
       "619                   Duplo                   NaN  2018   \n",
       "\n",
       "                                       name  pieces  us_price  \\\n",
       "0                            Robin vs. Bane    77.0      9.99   \n",
       "1                      Ultra Stealth Raider  1093.0    119.99   \n",
       "2                              Burj Khalifa   333.0     39.99   \n",
       "3                            Lakeside Lodge   368.0     29.99   \n",
       "4                      Ultra Stealth Raider  1093.0    119.99   \n",
       "..                                      ...     ...       ...   \n",
       "615                                  Tiketz    62.0      4.99   \n",
       "616                                    Myke    63.0      4.99   \n",
       "617  Friends of Heartlake City Girlz 4 Life     NaN     19.99   \n",
       "618              The Flash vs. Captain Cold    88.0      9.99   \n",
       "619                           Minnie's Café    27.0     19.99   \n",
       "\n",
       "                                             image_url  quantity  \n",
       "0    http://images.brickset.com/sets/images/76062-1...         1  \n",
       "1    http://images.brickset.com/sets/images/70595-1...         1  \n",
       "2    http://images.brickset.com/sets/images/21031-1...         1  \n",
       "3    http://images.brickset.com/sets/images/31048-1...         1  \n",
       "4    http://images.brickset.com/sets/images/70595-1...         1  \n",
       "..                                                 ...       ...  \n",
       "615  http://images.brickset.com/sets/images/41556-1...         2  \n",
       "616                                                NaN         2  \n",
       "617                                                NaN         1  \n",
       "618  http://images.brickset.com/sets/images/76063-1...         2  \n",
       "619  http://images.brickset.com/sets/images/10830-1...         4  \n",
       "\n",
       "[620 rows x 14 columns]"
      ]
     },
     "execution_count": 403,
     "metadata": {},
     "output_type": "execute_result"
    }
   ],
   "source": [
    "file_name = 'data/lego-sales.csv'\n",
    "DF = pd.read_csv(file_name)\n",
    "DF"
   ]
  },
  {
   "cell_type": "markdown",
   "id": "b2474002-893e-4c33-8229-d9fb8a3f4b29",
   "metadata": {},
   "source": [
    "### Exercises\n",
    "\n",
    "* Answer the following questions using reproducible Python code.\n",
    "* For each question, state your answer in a sentence, e.g. \"In this sample, the first three common names of purchasers are ...\".\n",
    "* Note that the answers to all questions are within the context of this particular sample of sales, i.e. you shouldn't make inferences about the population of all Lego sales based on this sample.\n",
    "\n",
    "-------------\n",
    "\n",
    "1.  Describe what you see in the data set (variables, observations, etc)\n",
    "\n",
    "        There are 620 observations and 14 variables.\n",
    "\n",
    "2.  What are the three most common first names of purchasers?\n",
    "\n",
    "        The three most common first names are Jackson, Joseph, and Jacob.\n",
    "\n",
    "3.  What are the three most common themes of Lego sets purchased?\n",
    "\n",
    "        The three most common themes are Star Wars, Nexo Knights, and Gear.\n",
    "\n",
    "4.  Among the most common theme of Lego sets purchased, what is the most common subtheme?\n",
    "\n",
    "        The most common subtheme is The Force Awakens.\n",
    "\n",
    "5.  Create data frames for each of the ages in the following categories: \"18 and under\", \"19 - 25\", \"26 - 35\", \"36 - 50\", \"51 and over\". HINT - use masks and create separate data frames -OR- create a new column with these categorical labels (more advanced).\n",
    "\n",
    "        Done Below\n",
    "\n",
    "6.  Which age group has purchased the highest number of Lego sets.\n",
    "\n",
    "        The age group 36-50 has purchased the most amount of sets.\n",
    "\n",
    "7.  Which age group has spent the most money on Legos?\n",
    "\n",
    "        The age group 36-50 has also spend the most money on Legos.\n",
    "\n",
    "8.  Which Lego theme has made the most money for Lego? HINT: Simpler than #5, just use a groupby()\n",
    "\n",
    "        The Star Wars Lego theme has made the most money for Lego.\n",
    "\n",
    "9.  Which area code has spent the most money on Legos? In the US the area code is the first 3 digits of a phone number. HINT: You will need to split the phone number and get just the first three. You decided what to do about reporting the NaNs.\n",
    "\n",
    "        There is a 4 way tie with area codes 281, 567, 441, and 712, all with 9 purchases.\n",
    "\n",
    "10.  Come up with a question you want to answer using these data, and write it down. Then, create a data visualization that answers the question, and explain how your visualization answers the question.\n",
    "\n",
    "        yo\n",
    "     "
   ]
  },
  {
   "cell_type": "code",
   "execution_count": 406,
   "id": "776800ff-22b6-48c3-8789-fd8a0a4f948d",
   "metadata": {},
   "outputs": [
    {
     "data": {
      "text/plain": [
       "(620, 14)"
      ]
     },
     "execution_count": 406,
     "metadata": {},
     "output_type": "execute_result"
    }
   ],
   "source": [
    "DF.shape"
   ]
  },
  {
   "cell_type": "code",
   "execution_count": 408,
   "id": "c5174b7c-0ae7-4bed-86b9-9445ff213ba2",
   "metadata": {},
   "outputs": [
    {
     "data": {
      "text/plain": [
       "first_name\n",
       "Jackson       13\n",
       "Joseph        11\n",
       "Jacob         11\n",
       "Michael       10\n",
       "Kaitlyn        8\n",
       "              ..\n",
       "Gunnar         1\n",
       "David          1\n",
       "Lawrence       1\n",
       "John'Dunae     1\n",
       "Kimberly       1\n",
       "Name: count, Length: 211, dtype: int64"
      ]
     },
     "execution_count": 408,
     "metadata": {},
     "output_type": "execute_result"
    }
   ],
   "source": [
    "DF['first_name'].value_counts()"
   ]
  },
  {
   "cell_type": "code",
   "execution_count": 410,
   "id": "51c68559-46b1-4113-8069-177ed3ef52d6",
   "metadata": {},
   "outputs": [
    {
     "data": {
      "text/plain": [
       "theme\n",
       "Star Wars                  75\n",
       "Nexo Knights               64\n",
       "Gear                       55\n",
       "Mixels                     55\n",
       "City                       45\n",
       "Friends                    42\n",
       "Ninjago                    38\n",
       "Duplo                      35\n",
       "Bionicle                   34\n",
       "Creator                    25\n",
       "DC Comics Super Heroes     22\n",
       "Elves                      22\n",
       "Marvel Super Heroes        19\n",
       "Dimensions                 18\n",
       "Disney Princess            15\n",
       "The Angry Birds Movie      11\n",
       "Technic                    10\n",
       "Architecture               10\n",
       "Minecraft                   9\n",
       "Advanced Models             4\n",
       "Ghostbusters                3\n",
       "Seasonal                    3\n",
       "Collectable Minifigures     3\n",
       "Ideas                       2\n",
       "Classic                     1\n",
       "Name: count, dtype: int64"
      ]
     },
     "execution_count": 410,
     "metadata": {},
     "output_type": "execute_result"
    }
   ],
   "source": [
    "DF['theme'].value_counts()"
   ]
  },
  {
   "cell_type": "code",
   "execution_count": 412,
   "id": "1aa6633c-eda9-4db8-9019-3fd45d6915a7",
   "metadata": {},
   "outputs": [
    {
     "data": {
      "text/plain": [
       "subtheme\n",
       "The Force Awakens            15\n",
       "Buildable Figures            11\n",
       "Episode V                    10\n",
       "MicroFighters                10\n",
       "Battlefront                   7\n",
       "Original Content              7\n",
       "Episode III                   6\n",
       "Rebels                        3\n",
       "Seasonal                      3\n",
       "Episode IV                    2\n",
       "Ultimate Collector Series     1\n",
       "Name: count, dtype: int64"
      ]
     },
     "execution_count": 412,
     "metadata": {},
     "output_type": "execute_result"
    }
   ],
   "source": [
    "mask = DF['theme'] == 'Star Wars'\n",
    "DFmask = DF[mask]\n",
    "DFmask['subtheme'].value_counts()"
   ]
  },
  {
   "cell_type": "code",
   "execution_count": 414,
   "id": "ce173c5d-138b-4b81-ace6-60573fc5ac59",
   "metadata": {},
   "outputs": [],
   "source": [
    "mask1 = DF['age'] <= 18\n",
    "agegroup1 = DF[mask1]\n",
    "mask2 = (DF['age'] >= 19) & (DF['age'] <= 25)\n",
    "agegroup2 = DF[mask2]\n",
    "mask3 = (DF['age'] >= 26) & (DF['age'] <= 35)\n",
    "agegroup3 = DF[mask3]\n",
    "mask4 = (DF['age'] >= 36) & (DF['age'] <= 50)\n",
    "agegroup4 = DF[mask4]\n",
    "mask5 = DF['age'] >= 51\n",
    "agegroup5 = DF[mask5]"
   ]
  },
  {
   "cell_type": "code",
   "execution_count": 416,
   "id": "73dcf3f9-8213-43d7-adf5-eba3a64345a3",
   "metadata": {},
   "outputs": [
    {
     "data": {
      "text/plain": [
       "(216, 14)"
      ]
     },
     "execution_count": 416,
     "metadata": {},
     "output_type": "execute_result"
    }
   ],
   "source": [
    "agegroup4.shape"
   ]
  },
  {
   "cell_type": "code",
   "execution_count": 418,
   "id": "9afcaf1f-5064-4dce-bf60-9a367523ab02",
   "metadata": {},
   "outputs": [
    {
     "data": {
      "text/plain": [
       "1832.38"
      ]
     },
     "execution_count": 418,
     "metadata": {},
     "output_type": "execute_result"
    }
   ],
   "source": [
    "agegroup5['us_price'].sum()"
   ]
  },
  {
   "cell_type": "code",
   "execution_count": 420,
   "id": "65b106a2-91a1-4fba-a3f4-dacab31d8cc5",
   "metadata": {},
   "outputs": [
    {
     "data": {
      "text/plain": [
       "theme\n",
       "Advanced Models             679.96\n",
       "Architecture                389.90\n",
       "Bionicle                    549.66\n",
       "City                       1476.55\n",
       "Classic                      29.99\n",
       "Collectable Minifigures      11.97\n",
       "Creator                     409.75\n",
       "DC Comics Super Heroes      450.78\n",
       "Dimensions                  369.82\n",
       "Disney Princess             167.85\n",
       "Duplo                       854.65\n",
       "Elves                       809.78\n",
       "Friends                     924.58\n",
       "Gear                       1056.45\n",
       "Ghostbusters                469.97\n",
       "Ideas                       139.98\n",
       "Marvel Super Heroes         539.81\n",
       "Minecraft                  1439.91\n",
       "Mixels                      274.45\n",
       "Nexo Knights               1569.36\n",
       "Ninjago                    1649.62\n",
       "Seasonal                     29.97\n",
       "Star Wars                  2842.25\n",
       "Technic                     492.90\n",
       "The Angry Birds Movie       375.89\n",
       "Name: us_price, dtype: float64"
      ]
     },
     "execution_count": 420,
     "metadata": {},
     "output_type": "execute_result"
    }
   ],
   "source": [
    "DF.groupby(by=['theme'])['us_price'].sum()"
   ]
  },
  {
   "cell_type": "code",
   "execution_count": 454,
   "id": "9cd6c161-e961-4ecf-b850-ae4bbd9369cf",
   "metadata": {},
   "outputs": [
    {
     "data": {
      "text/plain": [
       "area_code\n",
       "281    9\n",
       "567    9\n",
       "441    9\n",
       "712    9\n",
       "316    8\n",
       "      ..\n",
       "760    1\n",
       "563    1\n",
       "917    1\n",
       "947    1\n",
       "402    1\n",
       "Name: count, Length: 156, dtype: int64"
      ]
     },
     "execution_count": 454,
     "metadata": {},
     "output_type": "execute_result"
    }
   ],
   "source": [
    "DF['phone_number'] = DF['phone_number'].apply(lambda x: str(x).replace('-',''))\n",
    "DF['phone_number'] = DF['phone_number'].apply(lambda x: str(x).replace('nan','0'))\n",
    "DF['phone_number'] = DF['phone_number'].astype(int)\n",
    "DF['area_code'] = DF['phone_number']/10000000\n",
    "DF['area_code'] = DF['area_code'].astype(int)\n",
    "mask = DF['area_code'] != 0\n",
    "DF_new = DF[mask]\n",
    "DF_new['area_code'].value_counts()"
   ]
  },
  {
   "cell_type": "markdown",
   "id": "97ce4284-c698-44bc-b9e2-4e8d2988bbaa",
   "metadata": {},
   "source": [
    "## Essay Response\n",
    "\n",
    "Give a brief report on what you are reading and what you have learned so far. If you chose your own articles please insert a link to the articles. If you chose a book, please give the book title and author.\n",
    "\n",
    "1. What drew you to the book/articles\n",
    "2. What have you learned so far.\n",
    "\n",
    "eg. In the first chapter of the book the author talks about..... or My first article discusses..... or I disagree with what the author is saying so far.... or I really like what I am learning about because...."
   ]
  },
  {
   "cell_type": "markdown",
   "id": "1423229e-5528-4bc9-af49-5835a5516202",
   "metadata": {},
   "source": [
    "1. I have been mostly looking at articles, a mix of different google searches along with some searching on the articles you attached on the website.\n",
    "\n",
    "2. The main takeaway I would have would be that, despite some government restrictions, it is mainly up to the data collectors on what they decide to do with your online data, either choosing to protect it or exploit it.  An example of this would be the contrast between Apple and Facebook, where Apple has made many attempts to improve user privacy and protect data harvesting.  On the other hand, Facebook was found in the Facebook-Cambridge analytica scandal to have been harvesting user data without permission in order to influence political outcomes.  Simply just from surface level research, I have found that data privacy is an extremely serious topic, one that can be slightly unnerving knowing that some data that may not even be known to me could be taken and used against me or others without my knowing."
   ]
  }
 ],
 "metadata": {
  "kernelspec": {
   "display_name": "Python 3 (ipykernel)",
   "language": "python",
   "name": "python3"
  },
  "language_info": {
   "codemirror_mode": {
    "name": "ipython",
    "version": 3
   },
   "file_extension": ".py",
   "mimetype": "text/x-python",
   "name": "python",
   "nbconvert_exporter": "python",
   "pygments_lexer": "ipython3",
   "version": "3.12.2"
  }
 },
 "nbformat": 4,
 "nbformat_minor": 5
}
